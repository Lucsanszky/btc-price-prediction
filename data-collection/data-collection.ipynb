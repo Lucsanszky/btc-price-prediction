{
 "cells": [
  {
   "cell_type": "markdown",
   "metadata": {},
   "source": [
    "# Data Collection"
   ]
  },
  {
   "cell_type": "markdown",
   "metadata": {},
   "source": [
    "Multiple sources were used for data collection. For daily features and prices we opted to gather the data directly from blockchain.info through their flexible API. \n",
    "In order to obtain higher-frequency data, several Node.js scripts were deployed onto an Amazon EC2 instance. The scripts were continuously downloading ticker and limit order book data from the Bitstamp exchange through the exchange's Websocket API and stored in an Amazon DynamoDB for future access. Since we could not reconstruct the limit order book accurately, we opted to use Bitstamp limit order book data from CryptoAPI. This consisted the top 20 bid-ask prices and volumes with 10 seconds frequencies. "
   ]
  },
  {
   "cell_type": "markdown",
   "metadata": {},
   "source": [
    "# References\n",
    "\n",
    "* http://www.sciencedirect.com/science/article/pii/S0925231203003722\n",
    "* http://ac.els-cdn.com/S0957417400000270/1-s2.0-S0957417400000270-main.pdf?_tid=3a06fc62-1d5b-11e6-877f-00000aab0f27&acdnat=1463619013_cba9f7ee840313639128ce15571f73ac\n",
    "* Technical Analysis of Stock Trends, Robert D. Edwards and John Magee\n",
    "* https://www.jbs.cam.ac.uk/fileadmin/user_upload/research/workingpapers/wp0030.pdf\n",
    "* http://www.sciencedirect.com/science/article/pii/0261560692900483"
   ]
  },
  {
   "cell_type": "code",
   "execution_count": 1,
   "metadata": {
    "collapsed": false
   },
   "outputs": [
    {
     "data": {
      "application/json": {
       "Software versions": [
        {
         "module": "Python",
         "version": "3.5.1 64bit [GCC 4.4.7 20120313 (Red Hat 4.4.7-1)]"
        },
        {
         "module": "IPython",
         "version": "4.1.2"
        },
        {
         "module": "OS",
         "version": "Linux 3.13.0 86 generic x86_64 with debian jessie sid"
        },
        {
         "module": "deap",
         "version": "1.0"
        },
        {
         "module": "matplotlib",
         "version": "1.5.1"
        },
        {
         "module": "numpy",
         "version": "1.10.4"
        },
        {
         "module": "pandas",
         "version": "0.18.0"
        },
        {
         "module": "seaborn",
         "version": "0.7.0"
        },
        {
         "module": "sklearn",
         "version": "0.17.1"
        }
       ]
      },
      "text/html": [
       "<table><tr><th>Software</th><th>Version</th></tr><tr><td>Python</td><td>3.5.1 64bit [GCC 4.4.7 20120313 (Red Hat 4.4.7-1)]</td></tr><tr><td>IPython</td><td>4.1.2</td></tr><tr><td>OS</td><td>Linux 3.13.0 86 generic x86_64 with debian jessie sid</td></tr><tr><td>deap</td><td>1.0</td></tr><tr><td>matplotlib</td><td>1.5.1</td></tr><tr><td>numpy</td><td>1.10.4</td></tr><tr><td>pandas</td><td>0.18.0</td></tr><tr><td>seaborn</td><td>0.7.0</td></tr><tr><td>sklearn</td><td>0.17.1</td></tr><tr><td colspan='2'>Wed May 25 12:44:25 2016 BST</td></tr></table>"
      ],
      "text/latex": [
       "\\begin{tabular}{|l|l|}\\hline\n",
       "{\\bf Software} & {\\bf Version} \\\\ \\hline\\hline\n",
       "Python & 3.5.1 64bit [GCC 4.4.7 20120313 (Red Hat 4.4.7-1)] \\\\ \\hline\n",
       "IPython & 4.1.2 \\\\ \\hline\n",
       "OS & Linux 3.13.0 86 generic x86\\_64 with debian jessie sid \\\\ \\hline\n",
       "deap & 1.0 \\\\ \\hline\n",
       "matplotlib & 1.5.1 \\\\ \\hline\n",
       "numpy & 1.10.4 \\\\ \\hline\n",
       "pandas & 0.18.0 \\\\ \\hline\n",
       "seaborn & 0.7.0 \\\\ \\hline\n",
       "sklearn & 0.17.1 \\\\ \\hline\n",
       "\\hline \\multicolumn{2}{|l|}{Wed May 25 12:44:25 2016 BST} \\\\ \\hline\n",
       "\\end{tabular}\n"
      ],
      "text/plain": [
       "Software versions\n",
       "Python 3.5.1 64bit [GCC 4.4.7 20120313 (Red Hat 4.4.7-1)]\n",
       "IPython 4.1.2\n",
       "OS Linux 3.13.0 86 generic x86_64 with debian jessie sid\n",
       "deap 1.0\n",
       "matplotlib 1.5.1\n",
       "numpy 1.10.4\n",
       "pandas 0.18.0\n",
       "seaborn 0.7.0\n",
       "sklearn 0.17.1\n",
       "Wed May 25 12:44:25 2016 BST"
      ]
     },
     "execution_count": 1,
     "metadata": {},
     "output_type": "execute_result"
    }
   ],
   "source": [
    "%matplotlib inline\n",
    "\n",
    "%load_ext autoreload\n",
    "%autoreload 2\n",
    "\n",
    "%load_ext version_information\n",
    "%version_information deap, matplotlib, numpy, pandas, seaborn, sklearn"
   ]
  },
  {
   "cell_type": "code",
   "execution_count": 2,
   "metadata": {
    "collapsed": true
   },
   "outputs": [],
   "source": [
    "%matplotlib inline\n",
    "\n",
    "from IPython.display import display\n",
    "from ipywidgets import widgets\n",
    "import json\n",
    "import matplotlib.pyplot as plt\n",
    "import numpy as np\n",
    "import pandas as pd\n",
    "from collections import OrderedDict as od\n",
    "import random\n",
    "import re\n",
    "import seaborn as sns\n",
    "\n",
    "#pd.set_option('html', False)\n",
    "np.set_printoptions(threshold=np.nan)\n",
    "sns.set()"
   ]
  },
  {
   "cell_type": "markdown",
   "metadata": {},
   "source": [
    "# Transform collected trade data into proper format and export it"
   ]
  },
  {
   "cell_type": "code",
   "execution_count": 137,
   "metadata": {
    "collapsed": false
   },
   "outputs": [
    {
     "name": "stderr",
     "output_type": "stream",
     "text": [
      "/Library/Frameworks/Python.framework/Versions/3.5/lib/python3.5/site-packages/ipykernel/__main__.py:15: FutureWarning: sort(columns=....) is deprecated, use sort_values(by=.....)\n"
     ]
    }
   ],
   "source": [
    "path = '../btc-data/BTC_Trades_raw.csv'\n",
    "date_parse = lambda x: pd.datetime.strptime(x, '%d/%m/%Y %H:%M:%S')\n",
    "\n",
    "data = pd.read_csv(path)\n",
    "\n",
    "data.TradeData = data.TradeData.map(lambda x: float(re.sub('[^0-9,.]', '', x)))\n",
    "data.TradeID = data.TradeID.map(lambda x: float(re.sub('[^0-9,.]', '', x)))\n",
    "\n",
    "data.rename(columns = {data.columns[0]: 'Amount', data.columns[1]: 'Price'}, inplace = True)\n",
    "data.insert(0, 'Trade ID', data.index)\n",
    "\n",
    "data['Date'] = data['Date'].map(date_parse)\n",
    "\n",
    "data.set_index('Date', inplace = True)\n",
    "data.sort_values(by = 'Trade ID', inplace = True)\n",
    "\n",
    "data.to_csv(path_or_buf='../btc-data/BTC_Trades_clean.csv')"
   ]
  },
  {
   "cell_type": "markdown",
   "metadata": {},
   "source": [
    "# Transform collected order book data into proper format"
   ]
  },
  {
   "cell_type": "code",
   "execution_count": 15,
   "metadata": {
    "collapsed": false
   },
   "outputs": [
    {
     "name": "stderr",
     "output_type": "stream",
     "text": [
      "/home/dl3913/anaconda3/lib/python3.5/site-packages/ipykernel/__main__.py:4: ParserWarning: Falling back to the 'python' engine because the 'c' engine does not support regex separators; you can avoid this warning by specifying engine='python'.\n"
     ]
    }
   ],
   "source": [
    "path = '../btc-data/BTC_OB_raw.csv'\n",
    "date_parse = lambda x: pd.datetime.strptime(x, '%d/%m/%Y %H:%M:%S')\n",
    "\n",
    "data = pd.read_csv(path, sep='\",')\n",
    "\n",
    "data.rename(columns = {data.columns[0]: 'LOB Data', \n",
    "                       data.columns[1]: 'ID', \n",
    "                       data.columns[2]: 'Date'}, inplace = True)\n",
    "\n",
    "data['LOB Data'] = data['LOB Data'].map(lambda x: re.sub('asks', 'asks ', x))\n",
    "data['LOB Data'] = data['LOB Data'].map(lambda x: re.sub('bids', 'bids ', x))\n",
    "data['LOB Data'] = data['LOB Data'].map(lambda x: re.sub('[^0-9,.,asks ,bids ,]', '', x))\n",
    "data['ID'] = data['ID'].map(lambda x: re.sub('\\D', '', x))\n",
    "data['Date'] = data['Date'].map(lambda x: re.sub('[^0-9,/,:, ]', '', x))\n",
    "\n",
    "data['Date'] = data['Date'].map(date_parse)\n",
    "\n",
    "bids = data['LOB Data'].map(lambda x: re.split(',', re.sub('bids ', '', re.sub('^asks [0-9,.]*', '', x))))\n",
    "asks = data['LOB Data'].map(lambda x: re.split(',', re.sub('asks ', '', re.sub('bids [0-9,.]*', '', x)[:-1])))\n",
    "\n",
    "data.insert(1, 'Bids', bids)\n",
    "data.insert(1, 'Asks', asks)\n",
    "\n",
    "data['Bids'] = data['Bids'].map(lambda x: list(zip(x[::2], x[1::2])))\n",
    "data['Asks'] = data['Asks'].map(lambda x: list(zip(x[::2], x[1::2])))\n",
    "\n",
    "data.set_index('Date', inplace = True)\n",
    "data.drop('LOB Data', axis = 1, inplace = True)\n",
    "\n",
    "data = data[['ID','Asks', 'Bids']]\n",
    "data['ID'] = data['ID'].map(lambda x: int(x))\n",
    "data['Asks'] = data['Asks'].map(lambda x: list(map(lambda t: (float(t[0]), float(t[1])), x)))\n",
    "data['Bids'] = data['Bids'].map(lambda x: list(map(lambda t: (float(t[0]), float(t[1])), x)))\n",
    "data.sort_values(by = 'ID', inplace = True)\n",
    "\n",
    "#data.to_csv(path_or_buf='../btc-data/BTC_OB_clean_test.csv')"
   ]
  },
  {
   "cell_type": "markdown",
   "metadata": {},
   "source": [
    "# Recreate the order book - NOT WORKING"
   ]
  },
  {
   "cell_type": "code",
   "execution_count": 129,
   "metadata": {
    "collapsed": false
   },
   "outputs": [
    {
     "name": "stdout",
     "output_type": "stream",
     "text": [
      "[(570.0, 2.23492593), (376.32, 1.93660647), (376.34, 2.67382177), (376.4, 0.34587516), (374.89, 3.66), (376.4, 0.64543474), (376.4, 0.34587516), (376.39, 0.40600253), (376.26, 23.29955958), (376.39, 0.10644295), (376.26, 23.0), (376.27, 0.71587967), (500.0, 322.33761047), (500.0, 322.64552102), (376.47, 0.74308352), (376.27, 0.41632009), (376.3, 0.29955958), (379.27, 1.96007331), (376.43, 8.51701224), (374.5, 1.27976122)]\n",
      "16786\n",
      "[(372.85, 2.61805646), (372.84, 8.9237), (372.67, 8.0285), (372.66, 3.28509036), (372.6, 0.02326771), (372.25, 10.6798), (372.24, 6.493), (372.2, 2.0), (371.96, 6.692), (371.74, 0.04), (371.73, 7.265), (371.7, 0.02231636), (371.49, 6.928), (371.4, 0.02233438), (371.28, 7.441), (371.1, 0.02235244), (371.04, 6.84), (370.9, 0.262), (370.88, 2.16480323), (370.51, 51.0)]\n",
      "3523\n"
     ]
    }
   ],
   "source": [
    "askside = [ (373.1,0.53671),\n",
    "            (373.23,17.24),\n",
    "            (373.27,7.9555),\n",
    "            (373.28,1.3363),\n",
    "            (373.29,0.11771),\n",
    "            (373.5,55.04631),\n",
    "            (373.55,10.6796),\n",
    "            (373.56,1.43616041),\n",
    "            (373.59,0.26566839),\n",
    "            (373.6,1.43882788),\n",
    "            (373.61,1.43841224),\n",
    "            (373.65,0.2630484),\n",
    "            (373.71,1.69908455),\n",
    "            (373.73,0.43790512),\n",
    "            (373.75,1.54945824),\n",
    "            (373.77,1.85661036),\n",
    "            (373.78,0.17786362),\n",
    "            (373.8,2.76357342),\n",
    "            (373.81,1.73747649),\n",
    "            (373.82,1.16956076)\n",
    "]\n",
    "bidside = [(372.85,2.61805646),\n",
    "           (372.84,8.9237),\n",
    "           (372.67,8.0285),\n",
    "           (372.66,3.28509036),\n",
    "           (372.6,0.02326771),\n",
    "           (372.25,10.6798),\n",
    "           (372.24,6.493),\n",
    "           (372.2,2.0),\n",
    "           (371.96,6.692),\n",
    "           (371.74,0.04),\n",
    "           (371.73,7.265),\n",
    "           (371.7,0.02231636),\n",
    "           (371.49,6.928),\n",
    "           (371.4,0.02233438),\n",
    "           (371.28,7.441),\n",
    "           (371.1,0.02235244),\n",
    "           (371.04,6.84),\n",
    "           (370.9,0.262),\n",
    "           (370.88,2.16480323),\n",
    "           (370.86,45.75)\n",
    "]\n",
    "\n",
    "\n",
    "#print(data.tail())\n",
    "#data.sort_values(by = 'ID', inplace = True)\n",
    "#print(data.ix[5, 'Asks'])\n",
    "    \n",
    "for i in range(int(len(data)/100)):\n",
    "    #print('Asks: ', askside)\n",
    "    #print('To update: ', asks)\n",
    "    \n",
    "    for ask in data.ix[i, 'Asks']:\n",
    "        found = False\n",
    "        for j in range(len(askside)):\n",
    "            price = askside[j][0]\n",
    "            vol = askside[j][1]\n",
    "        if not(found):\n",
    "            if price == ask[0]:\n",
    "                if ask[1] == 0:\n",
    "                    del askside[j]\n",
    "                else:\n",
    "                    del askside[j]\n",
    "                    askside.insert(j, ask)\n",
    "                found = True\n",
    "            elif price < ask[0]:\n",
    "                if ask[1] > 0:\n",
    "                    askside.insert(j, ask)\n",
    "                found = True\n",
    "\n",
    "    #while len(askside) > 20:\n",
    "        #askside.remove(askside[-1])\n",
    "            \n",
    "    for bid in data.ix[i, 'Bids']:\n",
    "        found = False\n",
    "        for j in range(len(bidside)):\n",
    "            price = bidside[j][0]\n",
    "            vol = bidside[j][1]\n",
    "        if not(found):\n",
    "            if price == bid[0]:\n",
    "                if bid[1] == 0:\n",
    "                    del bidside[j]\n",
    "                else:\n",
    "                    del bidside[j]\n",
    "                    bidside.insert(j, bid)\n",
    "                found = True\n",
    "            elif price > bid[0]:\n",
    "                if bid[1] > 0:\n",
    "                    bidside.insert(j, bid)\n",
    "                found = True\n",
    "\n",
    "    #while len(bidside) > 20:\n",
    "        #bidside.remove(bidside[-1])"
   ]
  },
  {
   "cell_type": "code",
   "execution_count": 80,
   "metadata": {
    "collapsed": false
   },
   "outputs": [
    {
     "name": "stdout",
     "output_type": "stream",
     "text": [
      "{371.1: 0.02235244, 371.49: 6.928, 370.86: 45.75, 371.7: 0.02231636, 372.2: 2.0, 371.73: 7.265, 370.88: 2.16480323, 372.25: 10.6798, 372.85: 2.61805646, 371.28: 7.441, 371.4: 0.02233438, 370.9: 0.262, 371.74: 0.04, 372.67: 8.0285, 371.96: 6.692, 372.24: 6.493, 372.66: 3.28509036, 372.84: 8.9237, 371.04: 6.84, 372.6: 0.02326771}\n"
     ]
    }
   ],
   "source": [
    "askside = {373.1: 0.53671, \n",
    "           373.23: 17.24,\n",
    "           373.27: 7.9555,\n",
    "           373.28: 1.3363,\n",
    "           373.29: 0.11771, \n",
    "           373.5: 55.04631,\n",
    "           373.55: 10.6796,\n",
    "           373.56: 1.43616041, \n",
    "           373.59: 0.26566839, \n",
    "           373.6: 1.43882788,\n",
    "           373.61: 1.43841224,\n",
    "           373.65: 0.2630484, \n",
    "           373.71: 1.69908455, \n",
    "           373.73: 0.43790512, \n",
    "           373.27: 7.9555, \n",
    "           373.55: 10.6796, \n",
    "           373.22: 1.3363, 373.49: 7.9934, 373.72: 10.6566, 373.28: 1.3363}\n",
    "\n",
    "asks = {373.27: 7.9929, 373.28: 0.0, 373.49: 0.0, 373.55: 10.6849, 373.72: 0.0}\n",
    "\n",
    "for ask in asks:\n",
    "    #print(asks.get(ask))\n",
    "    if ask in askside:\n",
    "        if asks.get(ask) == 0:\n",
    "            askside.pop(ask)\n",
    "        else:\n",
    "            askside.pop(ask)\n",
    "            askside.update({ask: asks.get(ask)})\n",
    "    elif asks.get(ask) > 0:\n",
    "        askside.update({ask: asks.get(ask)})\n",
    "        if len(askside) > 20:\n",
    "            askside.pop(max(askside))\n",
    "\n",
    "            \n",
    "pair = (1,2)\n",
    "bidside = [(372.85,2.61805646),\n",
    "           (372.84,8.9237),\n",
    "           (372.67,8.0285),\n",
    "           (372.66,3.28509036),\n",
    "           (372.6,0.02326771),\n",
    "           (372.25,10.6798),\n",
    "           (372.24,6.493),\n",
    "           (372.2,2.0),\n",
    "           (371.96,6.692),\n",
    "           (371.74,0.04),\n",
    "           (371.73,7.265),\n",
    "           (371.7,0.02231636),\n",
    "           (371.49,6.928),\n",
    "           (371.4,0.02233438),\n",
    "           (371.28,7.441),\n",
    "           (371.1,0.02235244),\n",
    "           (371.04,6.84),\n",
    "           (370.9,0.262),\n",
    "           (370.88,2.16480323),\n",
    "           (370.86,45.75)\n",
    "]\n",
    "bidside = dict(bidside)\n",
    "print(bidside)"
   ]
  },
  {
   "cell_type": "markdown",
   "metadata": {},
   "source": [
    "# Collect and transform order book states from CryptoIQ"
   ]
  },
  {
   "cell_type": "code",
   "execution_count": 3,
   "metadata": {
    "collapsed": false,
    "scrolled": false
   },
   "outputs": [
    {
     "ename": "KeyboardInterrupt",
     "evalue": "",
     "output_type": "error",
     "traceback": [
      "\u001b[1;31m---------------------------------------------------------------------------\u001b[0m",
      "\u001b[1;31mKeyboardInterrupt\u001b[0m                         Traceback (most recent call last)",
      "\u001b[1;32m<ipython-input-3-2f8ec41f82c0>\u001b[0m in \u001b[0;36m<module>\u001b[1;34m()\u001b[0m\n\u001b[0;32m      7\u001b[0m \u001b[1;32mfor\u001b[0m \u001b[0mdate\u001b[0m \u001b[1;32min\u001b[0m \u001b[0mdates\u001b[0m\u001b[1;33m:\u001b[0m\u001b[1;33m\u001b[0m\u001b[0m\n\u001b[0;32m      8\u001b[0m     \u001b[0mtime\u001b[0m \u001b[1;33m=\u001b[0m \u001b[0mstr\u001b[0m\u001b[1;33m(\u001b[0m\u001b[0mdate\u001b[0m\u001b[1;33m.\u001b[0m\u001b[0mmonth\u001b[0m\u001b[1;33m)\u001b[0m \u001b[1;33m+\u001b[0m \u001b[1;34m'-'\u001b[0m \u001b[1;33m+\u001b[0m \u001b[0mstr\u001b[0m\u001b[1;33m(\u001b[0m\u001b[0mdate\u001b[0m\u001b[1;33m.\u001b[0m\u001b[0mday\u001b[0m\u001b[1;33m)\u001b[0m \u001b[1;33m+\u001b[0m \u001b[1;34m'/'\u001b[0m \u001b[1;33m+\u001b[0m \u001b[0mstr\u001b[0m\u001b[1;33m(\u001b[0m\u001b[0mdate\u001b[0m\u001b[1;33m.\u001b[0m\u001b[0mhour\u001b[0m\u001b[1;33m)\u001b[0m\u001b[1;33m\u001b[0m\u001b[0m\n\u001b[1;32m----> 9\u001b[1;33m     \u001b[0mdata\u001b[0m \u001b[1;33m=\u001b[0m \u001b[0mpd\u001b[0m\u001b[1;33m.\u001b[0m\u001b[0mread_json\u001b[0m\u001b[1;33m(\u001b[0m\u001b[0mURL\u001b[0m \u001b[1;33m%\u001b[0m \u001b[0mtime\u001b[0m\u001b[1;33m)\u001b[0m\u001b[1;33m\u001b[0m\u001b[0m\n\u001b[0m\u001b[0;32m     10\u001b[0m     \u001b[0mlob_data\u001b[0m \u001b[1;33m=\u001b[0m \u001b[0mlob_data\u001b[0m\u001b[1;33m.\u001b[0m\u001b[0mappend\u001b[0m\u001b[1;33m(\u001b[0m\u001b[0mdata\u001b[0m\u001b[1;33m)\u001b[0m\u001b[1;33m\u001b[0m\u001b[0m\n\u001b[0;32m     11\u001b[0m \u001b[1;33m\u001b[0m\u001b[0m\n",
      "\u001b[1;32m/home/dl3913/anaconda3/lib/python3.5/site-packages/pandas/io/json.py\u001b[0m in \u001b[0;36mread_json\u001b[1;34m(path_or_buf, orient, typ, dtype, convert_axes, convert_dates, keep_default_dates, numpy, precise_float, date_unit)\u001b[0m\n\u001b[0;32m    185\u001b[0m     \"\"\"\n\u001b[0;32m    186\u001b[0m \u001b[1;33m\u001b[0m\u001b[0m\n\u001b[1;32m--> 187\u001b[1;33m     \u001b[0mfilepath_or_buffer\u001b[0m\u001b[1;33m,\u001b[0m \u001b[0m_\u001b[0m\u001b[1;33m,\u001b[0m \u001b[0m_\u001b[0m \u001b[1;33m=\u001b[0m \u001b[0mget_filepath_or_buffer\u001b[0m\u001b[1;33m(\u001b[0m\u001b[0mpath_or_buf\u001b[0m\u001b[1;33m)\u001b[0m\u001b[1;33m\u001b[0m\u001b[0m\n\u001b[0m\u001b[0;32m    188\u001b[0m     \u001b[1;32mif\u001b[0m \u001b[0misinstance\u001b[0m\u001b[1;33m(\u001b[0m\u001b[0mfilepath_or_buffer\u001b[0m\u001b[1;33m,\u001b[0m \u001b[0mcompat\u001b[0m\u001b[1;33m.\u001b[0m\u001b[0mstring_types\u001b[0m\u001b[1;33m)\u001b[0m\u001b[1;33m:\u001b[0m\u001b[1;33m\u001b[0m\u001b[0m\n\u001b[0;32m    189\u001b[0m         \u001b[1;32mtry\u001b[0m\u001b[1;33m:\u001b[0m\u001b[1;33m\u001b[0m\u001b[0m\n",
      "\u001b[1;32m/home/dl3913/anaconda3/lib/python3.5/site-packages/pandas/io/common.py\u001b[0m in \u001b[0;36mget_filepath_or_buffer\u001b[1;34m(filepath_or_buffer, encoding, compression)\u001b[0m\n\u001b[0;32m    284\u001b[0m         \u001b[1;31m# cat on the compression to the tuple returned by the function\u001b[0m\u001b[1;33m\u001b[0m\u001b[1;33m\u001b[0m\u001b[0m\n\u001b[0;32m    285\u001b[0m         to_return = (list(maybe_read_encoded_stream(req, encoding,\n\u001b[1;32m--> 286\u001b[1;33m                                                     compression)) +\n\u001b[0m\u001b[0;32m    287\u001b[0m                      [compression])\n\u001b[0;32m    288\u001b[0m         \u001b[1;32mreturn\u001b[0m \u001b[0mtuple\u001b[0m\u001b[1;33m(\u001b[0m\u001b[0mto_return\u001b[0m\u001b[1;33m)\u001b[0m\u001b[1;33m\u001b[0m\u001b[0m\n",
      "\u001b[1;32m/home/dl3913/anaconda3/lib/python3.5/site-packages/pandas/io/common.py\u001b[0m in \u001b[0;36mmaybe_read_encoded_stream\u001b[1;34m(reader, encoding, compression)\u001b[0m\n\u001b[0;32m    204\u001b[0m             \u001b[0mreader\u001b[0m \u001b[1;33m=\u001b[0m \u001b[0mBytesIO\u001b[0m\u001b[1;33m(\u001b[0m\u001b[0mreader\u001b[0m\u001b[1;33m.\u001b[0m\u001b[0mread\u001b[0m\u001b[1;33m(\u001b[0m\u001b[1;33m)\u001b[0m\u001b[1;33m)\u001b[0m\u001b[1;33m\u001b[0m\u001b[0m\n\u001b[0;32m    205\u001b[0m         \u001b[1;32melse\u001b[0m\u001b[1;33m:\u001b[0m\u001b[1;33m\u001b[0m\u001b[0m\n\u001b[1;32m--> 206\u001b[1;33m             \u001b[0mreader\u001b[0m \u001b[1;33m=\u001b[0m \u001b[0mStringIO\u001b[0m\u001b[1;33m(\u001b[0m\u001b[0mreader\u001b[0m\u001b[1;33m.\u001b[0m\u001b[0mread\u001b[0m\u001b[1;33m(\u001b[0m\u001b[1;33m)\u001b[0m\u001b[1;33m.\u001b[0m\u001b[0mdecode\u001b[0m\u001b[1;33m(\u001b[0m\u001b[0mencoding\u001b[0m\u001b[1;33m,\u001b[0m \u001b[0merrors\u001b[0m\u001b[1;33m)\u001b[0m\u001b[1;33m)\u001b[0m\u001b[1;33m\u001b[0m\u001b[0m\n\u001b[0m\u001b[0;32m    207\u001b[0m     \u001b[1;32melse\u001b[0m\u001b[1;33m:\u001b[0m\u001b[1;33m\u001b[0m\u001b[0m\n\u001b[0;32m    208\u001b[0m         \u001b[1;32mif\u001b[0m \u001b[0mcompression\u001b[0m \u001b[1;33m==\u001b[0m \u001b[1;34m'gzip'\u001b[0m\u001b[1;33m:\u001b[0m\u001b[1;33m\u001b[0m\u001b[0m\n",
      "\u001b[1;32m/home/dl3913/anaconda3/lib/python3.5/http/client.py\u001b[0m in \u001b[0;36mread\u001b[1;34m(self, amt)\u001b[0m\n\u001b[0;32m    444\u001b[0m             \u001b[1;32melse\u001b[0m\u001b[1;33m:\u001b[0m\u001b[1;33m\u001b[0m\u001b[0m\n\u001b[0;32m    445\u001b[0m                 \u001b[1;32mtry\u001b[0m\u001b[1;33m:\u001b[0m\u001b[1;33m\u001b[0m\u001b[0m\n\u001b[1;32m--> 446\u001b[1;33m                     \u001b[0ms\u001b[0m \u001b[1;33m=\u001b[0m \u001b[0mself\u001b[0m\u001b[1;33m.\u001b[0m\u001b[0m_safe_read\u001b[0m\u001b[1;33m(\u001b[0m\u001b[0mself\u001b[0m\u001b[1;33m.\u001b[0m\u001b[0mlength\u001b[0m\u001b[1;33m)\u001b[0m\u001b[1;33m\u001b[0m\u001b[0m\n\u001b[0m\u001b[0;32m    447\u001b[0m                 \u001b[1;32mexcept\u001b[0m \u001b[0mIncompleteRead\u001b[0m\u001b[1;33m:\u001b[0m\u001b[1;33m\u001b[0m\u001b[0m\n\u001b[0;32m    448\u001b[0m                     \u001b[0mself\u001b[0m\u001b[1;33m.\u001b[0m\u001b[0m_close_conn\u001b[0m\u001b[1;33m(\u001b[0m\u001b[1;33m)\u001b[0m\u001b[1;33m\u001b[0m\u001b[0m\n",
      "\u001b[1;32m/home/dl3913/anaconda3/lib/python3.5/http/client.py\u001b[0m in \u001b[0;36m_safe_read\u001b[1;34m(self, amt)\u001b[0m\n\u001b[0;32m    590\u001b[0m         \u001b[0ms\u001b[0m \u001b[1;33m=\u001b[0m \u001b[1;33m[\u001b[0m\u001b[1;33m]\u001b[0m\u001b[1;33m\u001b[0m\u001b[0m\n\u001b[0;32m    591\u001b[0m         \u001b[1;32mwhile\u001b[0m \u001b[0mamt\u001b[0m \u001b[1;33m>\u001b[0m \u001b[1;36m0\u001b[0m\u001b[1;33m:\u001b[0m\u001b[1;33m\u001b[0m\u001b[0m\n\u001b[1;32m--> 592\u001b[1;33m             \u001b[0mchunk\u001b[0m \u001b[1;33m=\u001b[0m \u001b[0mself\u001b[0m\u001b[1;33m.\u001b[0m\u001b[0mfp\u001b[0m\u001b[1;33m.\u001b[0m\u001b[0mread\u001b[0m\u001b[1;33m(\u001b[0m\u001b[0mmin\u001b[0m\u001b[1;33m(\u001b[0m\u001b[0mamt\u001b[0m\u001b[1;33m,\u001b[0m \u001b[0mMAXAMOUNT\u001b[0m\u001b[1;33m)\u001b[0m\u001b[1;33m)\u001b[0m\u001b[1;33m\u001b[0m\u001b[0m\n\u001b[0m\u001b[0;32m    593\u001b[0m             \u001b[1;32mif\u001b[0m \u001b[1;32mnot\u001b[0m \u001b[0mchunk\u001b[0m\u001b[1;33m:\u001b[0m\u001b[1;33m\u001b[0m\u001b[0m\n\u001b[0;32m    594\u001b[0m                 \u001b[1;32mraise\u001b[0m \u001b[0mIncompleteRead\u001b[0m\u001b[1;33m(\u001b[0m\u001b[1;34mb''\u001b[0m\u001b[1;33m.\u001b[0m\u001b[0mjoin\u001b[0m\u001b[1;33m(\u001b[0m\u001b[0ms\u001b[0m\u001b[1;33m)\u001b[0m\u001b[1;33m,\u001b[0m \u001b[0mamt\u001b[0m\u001b[1;33m)\u001b[0m\u001b[1;33m\u001b[0m\u001b[0m\n",
      "\u001b[1;32m/home/dl3913/anaconda3/lib/python3.5/socket.py\u001b[0m in \u001b[0;36mreadinto\u001b[1;34m(self, b)\u001b[0m\n\u001b[0;32m    573\u001b[0m         \u001b[1;32mwhile\u001b[0m \u001b[1;32mTrue\u001b[0m\u001b[1;33m:\u001b[0m\u001b[1;33m\u001b[0m\u001b[0m\n\u001b[0;32m    574\u001b[0m             \u001b[1;32mtry\u001b[0m\u001b[1;33m:\u001b[0m\u001b[1;33m\u001b[0m\u001b[0m\n\u001b[1;32m--> 575\u001b[1;33m                 \u001b[1;32mreturn\u001b[0m \u001b[0mself\u001b[0m\u001b[1;33m.\u001b[0m\u001b[0m_sock\u001b[0m\u001b[1;33m.\u001b[0m\u001b[0mrecv_into\u001b[0m\u001b[1;33m(\u001b[0m\u001b[0mb\u001b[0m\u001b[1;33m)\u001b[0m\u001b[1;33m\u001b[0m\u001b[0m\n\u001b[0m\u001b[0;32m    576\u001b[0m             \u001b[1;32mexcept\u001b[0m \u001b[0mtimeout\u001b[0m\u001b[1;33m:\u001b[0m\u001b[1;33m\u001b[0m\u001b[0m\n\u001b[0;32m    577\u001b[0m                 \u001b[0mself\u001b[0m\u001b[1;33m.\u001b[0m\u001b[0m_timeout_occurred\u001b[0m \u001b[1;33m=\u001b[0m \u001b[1;32mTrue\u001b[0m\u001b[1;33m\u001b[0m\u001b[0m\n",
      "\u001b[1;31mKeyboardInterrupt\u001b[0m: "
     ]
    }
   ],
   "source": [
    "URL = 'https://cryptoiq.io/api/marketdata/orderbooktop/bitstamp/btcusd/2016-%s'\n",
    "\n",
    "dates = pd.date_range(start = '1/1/2016', end = '5/1/2016', freq='H')\n",
    "\n",
    "lob_data = pd.DataFrame()\n",
    "\n",
    "for date in dates:\n",
    "    time = str(date.month) + '-' + str(date.day) + '/' + str(date.hour)\n",
    "    data = pd.read_json(URL % time)\n",
    "    lob_data = lob_data.append(data)\n",
    "\n",
    "#lob_data.to_csv(path_or_buf='../btc-data/BTC_LOB_collected.csv')"
   ]
  },
  {
   "cell_type": "markdown",
   "metadata": {},
   "source": [
    "# Convert indices to datetime format (rows: 939612)"
   ]
  },
  {
   "cell_type": "code",
   "execution_count": 5,
   "metadata": {
    "collapsed": false
   },
   "outputs": [],
   "source": [
    "lob_data.set_index('time', inplace=True)\n",
    "lob_data.index = pd.to_datetime(lob_data.index)"
   ]
  },
  {
   "cell_type": "markdown",
   "metadata": {},
   "source": [
    "# Create indices for evenly spaced time series"
   ]
  },
  {
   "cell_type": "code",
   "execution_count": 16,
   "metadata": {
    "collapsed": false
   },
   "outputs": [
    {
     "data": {
      "text/plain": [
       "DatetimeIndex(['2016-01-01 00:00:00', '2016-01-01 00:00:10',\n",
       "               '2016-01-01 00:00:20', '2016-01-01 00:00:30',\n",
       "               '2016-01-01 00:00:40', '2016-01-01 00:00:50',\n",
       "               '2016-01-01 00:01:00', '2016-01-01 00:01:10',\n",
       "               '2016-01-01 00:01:20', '2016-01-01 00:01:30',\n",
       "               ...\n",
       "               '2016-05-01 00:58:20', '2016-05-01 00:58:30',\n",
       "               '2016-05-01 00:58:40', '2016-05-01 00:58:50',\n",
       "               '2016-05-01 00:59:00', '2016-05-01 00:59:10',\n",
       "               '2016-05-01 00:59:20', '2016-05-01 00:59:30',\n",
       "               '2016-05-01 00:59:40', '2016-05-01 00:59:50'],\n",
       "              dtype='datetime64[ns]', length=1045800, freq='10S')"
      ]
     },
     "execution_count": 16,
     "metadata": {},
     "output_type": "execute_result"
    }
   ],
   "source": [
    "dates = pd.date_range(start = '1/1/2016 00:00:00', end = '5/1/2016 00:59:50', freq='10s')\n",
    "#lob_data.to_csv(path_or_buf='../btc-data/BTC_LOB_collected.csv')"
   ]
  },
  {
   "cell_type": "code",
   "execution_count": 7,
   "metadata": {
    "collapsed": false
   },
   "outputs": [],
   "source": [
    "lob_data['asks'] = lob_data['asks'].map(dict)\n",
    "lob_data['bids'] = lob_data['bids'].map(dict)"
   ]
  },
  {
   "cell_type": "markdown",
   "metadata": {},
   "source": [
    "# Re-index the LOB table with the evenly spaced time series, fill missing values with the nearest available prices (rows: 1045800) "
   ]
  },
  {
   "cell_type": "code",
   "execution_count": 19,
   "metadata": {
    "collapsed": false,
    "scrolled": true
   },
   "outputs": [],
   "source": [
    "lob_data = lob_data.reindex(dates, method = 'nearest')"
   ]
  },
  {
   "cell_type": "code",
   "execution_count": 21,
   "metadata": {
    "collapsed": true
   },
   "outputs": [],
   "source": [
    "lob_data.to_csv(path_or_buf='../btc-data/BTC_LOB_collected.csv')"
   ]
  }
 ],
 "metadata": {
  "kernelspec": {
   "display_name": "Python 3",
   "language": "python",
   "name": "python3"
  },
  "language_info": {
   "codemirror_mode": {
    "name": "ipython",
    "version": 3
   },
   "file_extension": ".py",
   "mimetype": "text/x-python",
   "name": "python",
   "nbconvert_exporter": "python",
   "pygments_lexer": "ipython3",
   "version": "3.5.1"
  }
 },
 "nbformat": 4,
 "nbformat_minor": 0
}
