{
 "cells": [
  {
   "cell_type": "code",
   "execution_count": 1,
   "metadata": {
    "collapsed": false
   },
   "outputs": [
    {
     "data": {
      "application/json": {
       "Software versions": [
        {
         "module": "Python",
         "version": "3.5.1 64bit [GCC 4.4.7 20120313 (Red Hat 4.4.7-1)]"
        },
        {
         "module": "IPython",
         "version": "4.1.2"
        },
        {
         "module": "OS",
         "version": "Linux 3.13.0 62 generic x86_64 with debian jessie sid"
        },
        {
         "module": "deap",
         "version": "1.0"
        },
        {
         "module": "matplotlib",
         "version": "1.5.1"
        },
        {
         "module": "numpy",
         "version": "1.10.4"
        },
        {
         "module": "pandas",
         "version": "0.18.0"
        },
        {
         "module": "seaborn",
         "version": "0.7.0"
        },
        {
         "module": "sklearn",
         "version": "0.17.1"
        }
       ]
      },
      "text/html": [
       "<table><tr><th>Software</th><th>Version</th></tr><tr><td>Python</td><td>3.5.1 64bit [GCC 4.4.7 20120313 (Red Hat 4.4.7-1)]</td></tr><tr><td>IPython</td><td>4.1.2</td></tr><tr><td>OS</td><td>Linux 3.13.0 62 generic x86_64 with debian jessie sid</td></tr><tr><td>deap</td><td>1.0</td></tr><tr><td>matplotlib</td><td>1.5.1</td></tr><tr><td>numpy</td><td>1.10.4</td></tr><tr><td>pandas</td><td>0.18.0</td></tr><tr><td>seaborn</td><td>0.7.0</td></tr><tr><td>sklearn</td><td>0.17.1</td></tr><tr><td colspan='2'>Fri May 06 20:55:32 2016 BST</td></tr></table>"
      ],
      "text/latex": [
       "\\begin{tabular}{|l|l|}\\hline\n",
       "{\\bf Software} & {\\bf Version} \\\\ \\hline\\hline\n",
       "Python & 3.5.1 64bit [GCC 4.4.7 20120313 (Red Hat 4.4.7-1)] \\\\ \\hline\n",
       "IPython & 4.1.2 \\\\ \\hline\n",
       "OS & Linux 3.13.0 62 generic x86\\_64 with debian jessie sid \\\\ \\hline\n",
       "deap & 1.0 \\\\ \\hline\n",
       "matplotlib & 1.5.1 \\\\ \\hline\n",
       "numpy & 1.10.4 \\\\ \\hline\n",
       "pandas & 0.18.0 \\\\ \\hline\n",
       "seaborn & 0.7.0 \\\\ \\hline\n",
       "sklearn & 0.17.1 \\\\ \\hline\n",
       "\\hline \\multicolumn{2}{|l|}{Fri May 06 20:55:32 2016 BST} \\\\ \\hline\n",
       "\\end{tabular}\n"
      ],
      "text/plain": [
       "Software versions\n",
       "Python 3.5.1 64bit [GCC 4.4.7 20120313 (Red Hat 4.4.7-1)]\n",
       "IPython 4.1.2\n",
       "OS Linux 3.13.0 62 generic x86_64 with debian jessie sid\n",
       "deap 1.0\n",
       "matplotlib 1.5.1\n",
       "numpy 1.10.4\n",
       "pandas 0.18.0\n",
       "seaborn 0.7.0\n",
       "sklearn 0.17.1\n",
       "Fri May 06 20:55:32 2016 BST"
      ]
     },
     "execution_count": 1,
     "metadata": {},
     "output_type": "execute_result"
    }
   ],
   "source": [
    "%matplotlib inline\n",
    "\n",
    "%load_ext autoreload\n",
    "%autoreload 2\n",
    "\n",
    "%load_ext version_information\n",
    "%version_information deap, matplotlib, numpy, pandas, seaborn, sklearn"
   ]
  },
  {
   "cell_type": "code",
   "execution_count": 2,
   "metadata": {
    "collapsed": true
   },
   "outputs": [],
   "source": [
    "%matplotlib inline\n",
    "\n",
    "from IPython.display import display\n",
    "from ipywidgets import widgets\n",
    "import json\n",
    "import matplotlib.pyplot as plt\n",
    "import numpy as np\n",
    "import pandas as pd\n",
    "from collections import OrderedDict as od\n",
    "import random\n",
    "import re\n",
    "import seaborn as sns\n",
    "\n",
    "#pd.set_option('html', False)\n",
    "np.set_printoptions(threshold=np.nan)\n",
    "sns.set()"
   ]
  },
  {
   "cell_type": "markdown",
   "metadata": {},
   "source": [
    "# Transform collected trade data into proper format and export it"
   ]
  },
  {
   "cell_type": "code",
   "execution_count": 137,
   "metadata": {
    "collapsed": false
   },
   "outputs": [
    {
     "name": "stderr",
     "output_type": "stream",
     "text": [
      "/Library/Frameworks/Python.framework/Versions/3.5/lib/python3.5/site-packages/ipykernel/__main__.py:15: FutureWarning: sort(columns=....) is deprecated, use sort_values(by=.....)\n"
     ]
    }
   ],
   "source": [
    "path = '../btc-data/BTC_Trades_raw.csv'\n",
    "date_parse = lambda x: pd.datetime.strptime(x, '%d/%m/%Y %H:%M:%S')\n",
    "\n",
    "data = pd.read_csv(path)\n",
    "\n",
    "data.TradeData = data.TradeData.map(lambda x: float(re.sub('[^0-9,.]', '', x)))\n",
    "data.TradeID = data.TradeID.map(lambda x: float(re.sub('[^0-9,.]', '', x)))\n",
    "\n",
    "data.rename(columns = {data.columns[0]: 'Amount', data.columns[1]: 'Price'}, inplace = True)\n",
    "data.insert(0, 'Trade ID', data.index)\n",
    "\n",
    "data['Date'] = data['Date'].map(date_parse)\n",
    "\n",
    "data.set_index('Date', inplace = True)\n",
    "data.sort_values(by = 'Trade ID', inplace = True)\n",
    "\n",
    "data.to_csv(path_or_buf='../btc-data/BTC_Trades_clean.csv')"
   ]
  },
  {
   "cell_type": "markdown",
   "metadata": {},
   "source": [
    "# Transform collected order book data into proper format"
   ]
  },
  {
   "cell_type": "code",
   "execution_count": 15,
   "metadata": {
    "collapsed": false
   },
   "outputs": [
    {
     "name": "stderr",
     "output_type": "stream",
     "text": [
      "/home/dl3913/anaconda3/lib/python3.5/site-packages/ipykernel/__main__.py:4: ParserWarning: Falling back to the 'python' engine because the 'c' engine does not support regex separators; you can avoid this warning by specifying engine='python'.\n"
     ]
    }
   ],
   "source": [
    "path = '../btc-data/BTC_OB_raw.csv'\n",
    "date_parse = lambda x: pd.datetime.strptime(x, '%d/%m/%Y %H:%M:%S')\n",
    "\n",
    "data = pd.read_csv(path, sep='\",')\n",
    "\n",
    "data.rename(columns = {data.columns[0]: 'LOB Data', \n",
    "                       data.columns[1]: 'ID', \n",
    "                       data.columns[2]: 'Date'}, inplace = True)\n",
    "\n",
    "data['LOB Data'] = data['LOB Data'].map(lambda x: re.sub('asks', 'asks ', x))\n",
    "data['LOB Data'] = data['LOB Data'].map(lambda x: re.sub('bids', 'bids ', x))\n",
    "data['LOB Data'] = data['LOB Data'].map(lambda x: re.sub('[^0-9,.,asks ,bids ,]', '', x))\n",
    "data['ID'] = data['ID'].map(lambda x: re.sub('\\D', '', x))\n",
    "data['Date'] = data['Date'].map(lambda x: re.sub('[^0-9,/,:, ]', '', x))\n",
    "\n",
    "data['Date'] = data['Date'].map(date_parse)\n",
    "\n",
    "bids = data['LOB Data'].map(lambda x: re.split(',', re.sub('bids ', '', re.sub('^asks [0-9,.]*', '', x))))\n",
    "asks = data['LOB Data'].map(lambda x: re.split(',', re.sub('asks ', '', re.sub('bids [0-9,.]*', '', x)[:-1])))\n",
    "\n",
    "data.insert(1, 'Bids', bids)\n",
    "data.insert(1, 'Asks', asks)\n",
    "\n",
    "data['Bids'] = data['Bids'].map(lambda x: list(zip(x[::2], x[1::2])))\n",
    "data['Asks'] = data['Asks'].map(lambda x: list(zip(x[::2], x[1::2])))\n",
    "\n",
    "data.set_index('Date', inplace = True)\n",
    "data.drop('LOB Data', axis = 1, inplace = True)\n",
    "\n",
    "data = data[['ID','Asks', 'Bids']]\n",
    "data['ID'] = data['ID'].map(lambda x: int(x))\n",
    "data['Asks'] = data['Asks'].map(lambda x: list(map(lambda t: (float(t[0]), float(t[1])), x)))\n",
    "data['Bids'] = data['Bids'].map(lambda x: list(map(lambda t: (float(t[0]), float(t[1])), x)))\n",
    "data.sort_values(by = 'ID', inplace = True)\n",
    "\n",
    "#data.to_csv(path_or_buf='../btc-data/BTC_OB_clean_test.csv')"
   ]
  },
  {
   "cell_type": "markdown",
   "metadata": {},
   "source": [
    "# Recreate the order book - NOT WORKING"
   ]
  },
  {
   "cell_type": "code",
   "execution_count": 129,
   "metadata": {
    "collapsed": false
   },
   "outputs": [
    {
     "name": "stdout",
     "output_type": "stream",
     "text": [
      "[(570.0, 2.23492593), (376.32, 1.93660647), (376.34, 2.67382177), (376.4, 0.34587516), (374.89, 3.66), (376.4, 0.64543474), (376.4, 0.34587516), (376.39, 0.40600253), (376.26, 23.29955958), (376.39, 0.10644295), (376.26, 23.0), (376.27, 0.71587967), (500.0, 322.33761047), (500.0, 322.64552102), (376.47, 0.74308352), (376.27, 0.41632009), (376.3, 0.29955958), (379.27, 1.96007331), (376.43, 8.51701224), (374.5, 1.27976122)]\n",
      "16786\n",
      "[(372.85, 2.61805646), (372.84, 8.9237), (372.67, 8.0285), (372.66, 3.28509036), (372.6, 0.02326771), (372.25, 10.6798), (372.24, 6.493), (372.2, 2.0), (371.96, 6.692), (371.74, 0.04), (371.73, 7.265), (371.7, 0.02231636), (371.49, 6.928), (371.4, 0.02233438), (371.28, 7.441), (371.1, 0.02235244), (371.04, 6.84), (370.9, 0.262), (370.88, 2.16480323), (370.51, 51.0)]\n",
      "3523\n"
     ]
    }
   ],
   "source": [
    "askside = [ (373.1,0.53671),\n",
    "            (373.23,17.24),\n",
    "            (373.27,7.9555),\n",
    "            (373.28,1.3363),\n",
    "            (373.29,0.11771),\n",
    "            (373.5,55.04631),\n",
    "            (373.55,10.6796),\n",
    "            (373.56,1.43616041),\n",
    "            (373.59,0.26566839),\n",
    "            (373.6,1.43882788),\n",
    "            (373.61,1.43841224),\n",
    "            (373.65,0.2630484),\n",
    "            (373.71,1.69908455),\n",
    "            (373.73,0.43790512),\n",
    "            (373.75,1.54945824),\n",
    "            (373.77,1.85661036),\n",
    "            (373.78,0.17786362),\n",
    "            (373.8,2.76357342),\n",
    "            (373.81,1.73747649),\n",
    "            (373.82,1.16956076)\n",
    "]\n",
    "bidside = [(372.85,2.61805646),\n",
    "           (372.84,8.9237),\n",
    "           (372.67,8.0285),\n",
    "           (372.66,3.28509036),\n",
    "           (372.6,0.02326771),\n",
    "           (372.25,10.6798),\n",
    "           (372.24,6.493),\n",
    "           (372.2,2.0),\n",
    "           (371.96,6.692),\n",
    "           (371.74,0.04),\n",
    "           (371.73,7.265),\n",
    "           (371.7,0.02231636),\n",
    "           (371.49,6.928),\n",
    "           (371.4,0.02233438),\n",
    "           (371.28,7.441),\n",
    "           (371.1,0.02235244),\n",
    "           (371.04,6.84),\n",
    "           (370.9,0.262),\n",
    "           (370.88,2.16480323),\n",
    "           (370.86,45.75)\n",
    "]\n",
    "\n",
    "\n",
    "#print(data.tail())\n",
    "#data.sort_values(by = 'ID', inplace = True)\n",
    "#print(data.ix[5, 'Asks'])\n",
    "    \n",
    "for i in range(int(len(data)/100)):\n",
    "    #print('Asks: ', askside)\n",
    "    #print('To update: ', asks)\n",
    "    \n",
    "    for ask in data.ix[i, 'Asks']:\n",
    "        found = False\n",
    "        for j in range(len(askside)):\n",
    "            price = askside[j][0]\n",
    "            vol = askside[j][1]\n",
    "        if not(found):\n",
    "            if price == ask[0]:\n",
    "                if ask[1] == 0:\n",
    "                    del askside[j]\n",
    "                else:\n",
    "                    del askside[j]\n",
    "                    askside.insert(j, ask)\n",
    "                found = True\n",
    "            elif price < ask[0]:\n",
    "                if ask[1] > 0:\n",
    "                    askside.insert(j, ask)\n",
    "                found = True\n",
    "\n",
    "    #while len(askside) > 20:\n",
    "        #askside.remove(askside[-1])\n",
    "            \n",
    "    for bid in data.ix[i, 'Bids']:\n",
    "        found = False\n",
    "        for j in range(len(bidside)):\n",
    "            price = bidside[j][0]\n",
    "            vol = bidside[j][1]\n",
    "        if not(found):\n",
    "            if price == bid[0]:\n",
    "                if bid[1] == 0:\n",
    "                    del bidside[j]\n",
    "                else:\n",
    "                    del bidside[j]\n",
    "                    bidside.insert(j, bid)\n",
    "                found = True\n",
    "            elif price > bid[0]:\n",
    "                if bid[1] > 0:\n",
    "                    bidside.insert(j, bid)\n",
    "                found = True\n",
    "\n",
    "    #while len(bidside) > 20:\n",
    "        #bidside.remove(bidside[-1])"
   ]
  },
  {
   "cell_type": "code",
   "execution_count": 80,
   "metadata": {
    "collapsed": false
   },
   "outputs": [
    {
     "name": "stdout",
     "output_type": "stream",
     "text": [
      "{371.1: 0.02235244, 371.49: 6.928, 370.86: 45.75, 371.7: 0.02231636, 372.2: 2.0, 371.73: 7.265, 370.88: 2.16480323, 372.25: 10.6798, 372.85: 2.61805646, 371.28: 7.441, 371.4: 0.02233438, 370.9: 0.262, 371.74: 0.04, 372.67: 8.0285, 371.96: 6.692, 372.24: 6.493, 372.66: 3.28509036, 372.84: 8.9237, 371.04: 6.84, 372.6: 0.02326771}\n"
     ]
    }
   ],
   "source": [
    "askside = {373.1: 0.53671, \n",
    "           373.23: 17.24,\n",
    "           373.27: 7.9555,\n",
    "           373.28: 1.3363,\n",
    "           373.29: 0.11771, \n",
    "           373.5: 55.04631,\n",
    "           373.55: 10.6796,\n",
    "           373.56: 1.43616041, \n",
    "           373.59: 0.26566839, \n",
    "           373.6: 1.43882788,\n",
    "           373.61: 1.43841224,\n",
    "           373.65: 0.2630484, \n",
    "           373.71: 1.69908455, \n",
    "           373.73: 0.43790512, \n",
    "           373.27: 7.9555, \n",
    "           373.55: 10.6796, \n",
    "           373.22: 1.3363, 373.49: 7.9934, 373.72: 10.6566, 373.28: 1.3363}\n",
    "\n",
    "asks = {373.27: 7.9929, 373.28: 0.0, 373.49: 0.0, 373.55: 10.6849, 373.72: 0.0}\n",
    "\n",
    "for ask in asks:\n",
    "    #print(asks.get(ask))\n",
    "    if ask in askside:\n",
    "        if asks.get(ask) == 0:\n",
    "            askside.pop(ask)\n",
    "        else:\n",
    "            askside.pop(ask)\n",
    "            askside.update({ask: asks.get(ask)})\n",
    "    elif asks.get(ask) > 0:\n",
    "        askside.update({ask: asks.get(ask)})\n",
    "        if len(askside) > 20:\n",
    "            askside.pop(max(askside))\n",
    "\n",
    "            \n",
    "pair = (1,2)\n",
    "bidside = [(372.85,2.61805646),\n",
    "           (372.84,8.9237),\n",
    "           (372.67,8.0285),\n",
    "           (372.66,3.28509036),\n",
    "           (372.6,0.02326771),\n",
    "           (372.25,10.6798),\n",
    "           (372.24,6.493),\n",
    "           (372.2,2.0),\n",
    "           (371.96,6.692),\n",
    "           (371.74,0.04),\n",
    "           (371.73,7.265),\n",
    "           (371.7,0.02231636),\n",
    "           (371.49,6.928),\n",
    "           (371.4,0.02233438),\n",
    "           (371.28,7.441),\n",
    "           (371.1,0.02235244),\n",
    "           (371.04,6.84),\n",
    "           (370.9,0.262),\n",
    "           (370.88,2.16480323),\n",
    "           (370.86,45.75)\n",
    "]\n",
    "bidside = dict(bidside)\n",
    "print(bidside)"
   ]
  },
  {
   "cell_type": "markdown",
   "metadata": {},
   "source": [
    "# Collect and transform order book states from CryptoIQ"
   ]
  },
  {
   "cell_type": "code",
   "execution_count": 136,
   "metadata": {
    "collapsed": false
   },
   "outputs": [
    {
     "data": {
      "text/html": [
       "<div>\n",
       "<table border=\"1\" class=\"dataframe\">\n",
       "  <thead>\n",
       "    <tr style=\"text-align: right;\">\n",
       "      <th></th>\n",
       "      <th>asks</th>\n",
       "      <th>bids</th>\n",
       "      <th>time</th>\n",
       "    </tr>\n",
       "  </thead>\n",
       "  <tbody>\n",
       "    <tr>\n",
       "      <th>0</th>\n",
       "      <td>[[457.71, 1.47], [458.31, 3.59727915], [458.7,...</td>\n",
       "      <td>[[457.5, 31.99459235], [457.3, 0.05], [457.1, ...</td>\n",
       "      <td>2016-04-24T22:00:00Z</td>\n",
       "    </tr>\n",
       "    <tr>\n",
       "      <th>1</th>\n",
       "      <td>[[457.71, 1.47], [458.74, 8.456], [459.04, 15....</td>\n",
       "      <td>[[457.5, 31.99459235], [457.3, 0.05], [457.1, ...</td>\n",
       "      <td>2016-04-24T22:00:30Z</td>\n",
       "    </tr>\n",
       "    <tr>\n",
       "      <th>2</th>\n",
       "      <td>[[457.71, 1.1], [458.73, 15.5], [458.74, 8.456...</td>\n",
       "      <td>[[457.5, 31.99459235], [457.3, 0.05], [457.1, ...</td>\n",
       "      <td>2016-04-24T22:00:40Z</td>\n",
       "    </tr>\n",
       "    <tr>\n",
       "      <th>3</th>\n",
       "      <td>[[457.71, 1.1], [458.7, 15.5], [458.71, 2.1801...</td>\n",
       "      <td>[[457.51, 0.01095058], [457.5, 31.99459235], [...</td>\n",
       "      <td>2016-04-24T22:00:50Z</td>\n",
       "    </tr>\n",
       "    <tr>\n",
       "      <th>4</th>\n",
       "      <td>[[457.71, 0.97], [458.67, 15.5], [458.68, 3.59...</td>\n",
       "      <td>[[457.5, 31.87554293], [457.3, 0.05], [457.1, ...</td>\n",
       "      <td>2016-04-24T22:01:00Z</td>\n",
       "    </tr>\n",
       "  </tbody>\n",
       "</table>\n",
       "</div>"
      ],
      "text/plain": [
       "                                                asks  \\\n",
       "0  [[457.71, 1.47], [458.31, 3.59727915], [458.7,...   \n",
       "1  [[457.71, 1.47], [458.74, 8.456], [459.04, 15....   \n",
       "2  [[457.71, 1.1], [458.73, 15.5], [458.74, 8.456...   \n",
       "3  [[457.71, 1.1], [458.7, 15.5], [458.71, 2.1801...   \n",
       "4  [[457.71, 0.97], [458.67, 15.5], [458.68, 3.59...   \n",
       "\n",
       "                                                bids                  time  \n",
       "0  [[457.5, 31.99459235], [457.3, 0.05], [457.1, ...  2016-04-24T22:00:00Z  \n",
       "1  [[457.5, 31.99459235], [457.3, 0.05], [457.1, ...  2016-04-24T22:00:30Z  \n",
       "2  [[457.5, 31.99459235], [457.3, 0.05], [457.1, ...  2016-04-24T22:00:40Z  \n",
       "3  [[457.51, 0.01095058], [457.5, 31.99459235], [...  2016-04-24T22:00:50Z  \n",
       "4  [[457.5, 31.87554293], [457.3, 0.05], [457.1, ...  2016-04-24T22:01:00Z  "
      ]
     },
     "execution_count": 136,
     "metadata": {},
     "output_type": "execute_result"
    }
   ],
   "source": [
    "URL = 'https://cryptoiq.io/api/marketdata/orderbooktop/bitstamp/btcusd/2016-%s'\n",
    "time = '04-24/22'\n",
    "\n",
    "data = pd.read_json(URL % time)\n",
    "\n",
    "data.head()"
   ]
  },
  {
   "cell_type": "code",
   "execution_count": null,
   "metadata": {
    "collapsed": true
   },
   "outputs": [],
   "source": []
  }
 ],
 "metadata": {
  "kernelspec": {
   "display_name": "Python 3",
   "language": "python",
   "name": "python3"
  },
  "language_info": {
   "codemirror_mode": {
    "name": "ipython",
    "version": 3
   },
   "file_extension": ".py",
   "mimetype": "text/x-python",
   "name": "python",
   "nbconvert_exporter": "python",
   "pygments_lexer": "ipython3",
   "version": "3.5.1"
  }
 },
 "nbformat": 4,
 "nbformat_minor": 0
}
