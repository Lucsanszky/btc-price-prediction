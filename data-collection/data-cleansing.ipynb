{
 "cells": [
  {
   "cell_type": "code",
   "execution_count": 1,
   "metadata": {
    "collapsed": true
   },
   "outputs": [],
   "source": [
    "%matplotlib inline\n",
    "\n",
    "from IPython.display import display\n",
    "from ipywidgets import widgets\n",
    "import json\n",
    "import matplotlib.pyplot as plt\n",
    "import numpy as np\n",
    "import pandas as pd\n",
    "import random\n",
    "import re\n",
    "import seaborn as sns\n",
    "\n",
    "pd.set_option('html', False)\n",
    "np.set_printoptions(threshold=np.nan)\n",
    "sns.set()"
   ]
  },
  {
   "cell_type": "code",
   "execution_count": 137,
   "metadata": {
    "collapsed": false
   },
   "outputs": [
    {
     "name": "stderr",
     "output_type": "stream",
     "text": [
      "/Library/Frameworks/Python.framework/Versions/3.5/lib/python3.5/site-packages/ipykernel/__main__.py:15: FutureWarning: sort(columns=....) is deprecated, use sort_values(by=.....)\n"
     ]
    }
   ],
   "source": [
    "path = '../btc-data/BTC_Trades_raw.csv'\n",
    "date_parse = lambda x: pd.datetime.strptime(x, '%d/%m/%Y %H:%M:%S')\n",
    "\n",
    "data = pd.read_csv(path)\n",
    "\n",
    "data.TradeData = data.TradeData.map(lambda x: float(re.sub('[^0-9,.]', '', x)))\n",
    "data.TradeID = data.TradeID.map(lambda x: float(re.sub('[^0-9,.]', '', x)))\n",
    "\n",
    "data.rename(columns = {data.columns[0]: 'Amount', data.columns[1]: 'Price'}, inplace = True)\n",
    "data.insert(0, 'Trade ID', data.index)\n",
    "\n",
    "data['Date'] = data['Date'].map(date_parse)\n",
    "\n",
    "data.set_index('Date', inplace = True)\n",
    "data.sort_values(by = 'Trade ID', inplace = True)\n",
    "\n",
    "data.to_csv(path_or_buf='../btc-data/BTC_Trades_clean.csv')"
   ]
  },
  {
   "cell_type": "code",
   "execution_count": 225,
   "metadata": {
    "collapsed": false
   },
   "outputs": [
    {
     "name": "stderr",
     "output_type": "stream",
     "text": [
      "/Library/Frameworks/Python.framework/Versions/3.5/lib/python3.5/site-packages/ipykernel/__main__.py:4: ParserWarning: Falling back to the 'python' engine because the 'c' engine does not support regex separators; you can avoid this warning by specifying engine='python'.\n"
     ]
    }
   ],
   "source": [
    "path = '../btc-data/BTC_OB_raw.csv'\n",
    "date_parse = lambda x: pd.datetime.strptime(x, '%d/%m/%Y %H:%M:%S')\n",
    "\n",
    "data = pd.read_csv(path, sep='\",')\n",
    "\n",
    "data.rename(columns = {data.columns[0]: 'LOB Data', \n",
    "                       data.columns[1]: 'ID', \n",
    "                       data.columns[2]: 'Date'}, inplace = True)\n",
    "\n",
    "data['LOB Data'] = data['LOB Data'].map(lambda x: re.sub('asks', 'asks ', x))\n",
    "data['LOB Data'] = data['LOB Data'].map(lambda x: re.sub('bids', 'bids ', x))\n",
    "data['LOB Data'] = data['LOB Data'].map(lambda x: re.sub('[^0-9,.,asks ,bids ,]', '', x))\n",
    "data['ID'] = data['ID'].map(lambda x: re.sub('\\D', '', x))\n",
    "data['Date'] = data['Date'].map(lambda x: re.sub('[^0-9,/,:, ]', '', x))\n",
    "\n",
    "data['Date'] = data['Date'].map(date_parse)\n",
    "\n",
    "bids = data['LOB Data'].map(lambda x: re.split(',', re.sub('bids ', '', re.sub('^asks [0-9,.]*', '', x))))\n",
    "asks = data['LOB Data'].map(lambda x: re.split(',', re.sub('asks ', '', re.sub('bids [0-9,.]*', '', x))))\n",
    "\n",
    "data.insert(1, 'Bids', bids)\n",
    "data.insert(1, 'Asks', asks)\n",
    "\n",
    "data['Bids'] = data['Bids'].map(lambda x: list(zip(x[::2], x[1::2])))\n",
    "data['Asks'] = data['Asks'].map(lambda x: list(zip(x[::2], x[1::2])))\n",
    "\n",
    "data.set_index('Date', inplace = True)\n",
    "data.drop('LOB Data', axis = 1, inplace = True)\n",
    "\n",
    "data = data[['ID','Asks','Bids']]\n",
    "data['ID'] = data['ID'].map(lambda x: int(x))\n",
    "data.sort_values(by = 'ID', inplace = True)\n",
    "\n",
    "data.to_csv(path_or_buf='../btc-data/BTC_OB_clean.csv')"
   ]
  },
  {
   "cell_type": "code",
   "execution_count": null,
   "metadata": {
    "collapsed": true
   },
   "outputs": [],
   "source": []
  }
 ],
 "metadata": {
  "kernelspec": {
   "display_name": "Python 3",
   "language": "python",
   "name": "python3"
  },
  "language_info": {
   "codemirror_mode": {
    "name": "ipython",
    "version": 3
   },
   "file_extension": ".py",
   "mimetype": "text/x-python",
   "name": "python",
   "nbconvert_exporter": "python",
   "pygments_lexer": "ipython3",
   "version": "3.5.1"
  }
 },
 "nbformat": 4,
 "nbformat_minor": 0
}
