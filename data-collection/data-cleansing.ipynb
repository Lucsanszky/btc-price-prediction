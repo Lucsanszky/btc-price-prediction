{
 "cells": [
  {
   "cell_type": "code",
   "execution_count": 244,
   "metadata": {
    "collapsed": true
   },
   "outputs": [],
   "source": [
    "%matplotlib inline\n",
    "\n",
    "from IPython.display import display\n",
    "from ipywidgets import widgets\n",
    "import json\n",
    "import matplotlib.pyplot as plt\n",
    "import numpy as np\n",
    "import pandas as pd\n",
    "from collections import OrderedDict as od\n",
    "import random\n",
    "import re\n",
    "import seaborn as sns\n",
    "\n",
    "#pd.set_option('html', False)\n",
    "np.set_printoptions(threshold=np.nan)\n",
    "sns.set()"
   ]
  },
  {
   "cell_type": "code",
   "execution_count": 137,
   "metadata": {
    "collapsed": false
   },
   "outputs": [
    {
     "name": "stderr",
     "output_type": "stream",
     "text": [
      "/Library/Frameworks/Python.framework/Versions/3.5/lib/python3.5/site-packages/ipykernel/__main__.py:15: FutureWarning: sort(columns=....) is deprecated, use sort_values(by=.....)\n"
     ]
    }
   ],
   "source": [
    "path = '../btc-data/BTC_Trades_raw.csv'\n",
    "date_parse = lambda x: pd.datetime.strptime(x, '%d/%m/%Y %H:%M:%S')\n",
    "\n",
    "data = pd.read_csv(path)\n",
    "\n",
    "data.TradeData = data.TradeData.map(lambda x: float(re.sub('[^0-9,.]', '', x)))\n",
    "data.TradeID = data.TradeID.map(lambda x: float(re.sub('[^0-9,.]', '', x)))\n",
    "\n",
    "data.rename(columns = {data.columns[0]: 'Amount', data.columns[1]: 'Price'}, inplace = True)\n",
    "data.insert(0, 'Trade ID', data.index)\n",
    "\n",
    "data['Date'] = data['Date'].map(date_parse)\n",
    "\n",
    "data.set_index('Date', inplace = True)\n",
    "data.sort_values(by = 'Trade ID', inplace = True)\n",
    "\n",
    "data.to_csv(path_or_buf='../btc-data/BTC_Trades_clean.csv')"
   ]
  },
  {
   "cell_type": "code",
   "execution_count": 258,
   "metadata": {
    "collapsed": false
   },
   "outputs": [
    {
     "name": "stderr",
     "output_type": "stream",
     "text": [
      "/Users/dlucsanszky/anaconda3/lib/python3.5/site-packages/ipykernel/__main__.py:5: ParserWarning: Falling back to the 'python' engine because the 'c' engine does not support regex separators; you can avoid this warning by specifying engine='python'.\n"
     ]
    },
    {
     "name": "stdout",
     "output_type": "stream",
     "text": [
      "CPU times: user 3.22 s, sys: 13.3 s, total: 16.6 s\n",
      "Wall time: 20.5 s\n"
     ]
    }
   ],
   "source": [
    "def generate_ob_frame():\n",
    "    path = '../btc-data/BTC_OB_raw.csv'\n",
    "    date_parse = lambda x: pd.datetime.strptime(x, '%d/%m/%Y %H:%M:%S')\n",
    "\n",
    "    data = pd.read_csv(path, sep='\",', nrows=5000)\n",
    "\n",
    "    data.rename(columns = {data.columns[0]: 'LOB Data', \n",
    "                           data.columns[1]: 'ID', \n",
    "                           data.columns[2]: 'Date'}, inplace = True)\n",
    "\n",
    "    data['LOB Data'] = data['LOB Data'].map(lambda x: re.sub('asks', 'asks ', x))\n",
    "    data['LOB Data'] = data['LOB Data'].map(lambda x: re.sub('bids', 'bids ', x))\n",
    "    data['LOB Data'] = data['LOB Data'].map(lambda x: re.sub('[^0-9,.,asks ,bids ,]', '', x))\n",
    "    data['ID'] = data['ID'].map(lambda x: re.sub('\\D', '', x))\n",
    "    data['Date'] = data['Date'].map(lambda x: re.sub('[^0-9,/,:, ]', '', x))\n",
    "\n",
    "    data['Date'] = data['Date'].map(date_parse)\n",
    "\n",
    "    bids = data['LOB Data'].map(lambda x: re.split(',', re.sub('bids ', '', re.sub('^asks [0-9,.]*', '', x))))\n",
    "    asks = data['LOB Data'].map(lambda x: re.split(',', re.sub('asks ', '', re.sub('bids [0-9,.]*', '', x)[:-1])))\n",
    "\n",
    "    data.insert(1, 'Bids', bids)\n",
    "    data.insert(1, 'Asks', asks)\n",
    "\n",
    "    data['Bids'] = data['Bids'].map(lambda x: list(zip(x[::2], x[1::2])))\n",
    "    data['Asks'] = data['Asks'].map(lambda x: list(zip(x[::2], x[1::2])))\n",
    "\n",
    "    data.set_index('Date', inplace = True)\n",
    "    data.drop('LOB Data', axis = 1, inplace = True)\n",
    "\n",
    "    data = data[['ID','Asks', 'Bids']]\n",
    "    data['ID'] = data['ID'].map(lambda x: int(x))\n",
    "    data.sort_values(by = 'ID', inplace = True)\n",
    "\n",
    "#data.to_csv(path_or_buf='../btc-data/BTC_OB_clean_test.csv')\n",
    "%time generate_ob_frame()"
   ]
  },
  {
   "cell_type": "code",
   "execution_count": 257,
   "metadata": {
    "collapsed": false
   },
   "outputs": [
    {
     "name": "stdout",
     "output_type": "stream",
     "text": [
      "                          ID  \\\n",
      "Date                           \n",
      "2016-04-24 15:21:26  6530914   \n",
      "2016-04-24 15:21:27  6530915   \n",
      "2016-04-24 15:21:28  6530916   \n",
      "2016-04-24 15:21:29  6530917   \n",
      "2016-04-24 15:21:30  6530918   \n",
      "\n",
      "                                                                  Asks  \\\n",
      "Date                                                                     \n",
      "2016-04-24 15:21:26                      [(454.23000000, 48.75231050)]   \n",
      "2016-04-24 15:21:27  [(452.11000000, 0), (455.80000000, 202.83000000)]   \n",
      "2016-04-24 15:21:28  [(451.97000000, 0.25482676), (453.19000000, 0)...   \n",
      "2016-04-24 15:21:29                                                 []   \n",
      "2016-04-24 15:21:30                       [(453.19000000, 0.55000000)]   \n",
      "\n",
      "                                                                 Bids  \n",
      "Date                                                                   \n",
      "2016-04-24 15:21:26                               [(443.92000000, 0)]  \n",
      "2016-04-24 15:21:27  [(448.39000000, 15.50000000), (448.36000000, 0)]  \n",
      "2016-04-24 15:21:28            [(447.32000000, 0), (447.23000000, 0)]  \n",
      "2016-04-24 15:21:29                     [(447.32000000, 13.06000000)]  \n",
      "2016-04-24 15:21:30                     [(447.23000000, 25.19000000)]  \n",
      "[(366.44, 5.959), (366.2, 8.1282), (366.41, 8.1839), (366.42, 1.62316806), (366.48, 6.57), (366.39, 1.62316806), (366.38, 8.1285), (366.36, 1.62316806), (366.35, 8.0974), (366.35, 8.0794), (366.33, 1.62316806), (366.32, 8.1305), (366.3, 1.62316806), (366.29, 8.1355), (366.3, 7.62416806), (366.32, 6.617), (366.3, 1.62316806), (366.28, 6.299), (366.27, 1.62316806), (366.0, 1.0), (366.27, 9.73116806), (365.99, 8.1702), (366.04, 7.01), (366.27, 1.62316806), (366.26, 7.537), (365.99, 7.8702), (365.99, 7.818796), (365.97, 1.62316806), (365.96, 8.1149), (366.25, 7.51), (366.26, 1.64), (366.31, 5.56), (365.93, 8.157), (365.94, 1.62316806), (366.24, 7.416), (365.91, 1.62316806), (365.98, 8.1675), (366.31, 31.9943), (365.96, 1.62316806), (365.99, 8.08436078), (366.3, 6.69), (365.95, 8.1609), (366.09, 6.764), (366.29, 31.9943), (365.92, 8.1658), (365.93, 1.62316806), (366.28, 7.472), (366.31, 31.9943), (366.27, 31.9943), (453.19, 0.55)]\n",
      "50\n",
      "[(455.24, 2.12171355), (455.25, 14.455), (455.24, 3.00467191), (456.02, 0.8), (456.02, 0.65795764), (455.24, 0.88295836), (455.27, 2.12157374), (455.28, 14.455), (455.27, 3.00447392), (455.27, 0.88290018), (455.2, 0.88303595), (455.49, 2.94964426), (455.49, 0.82909523), (455.52, 2.12040938), (455.53, 14.455), (455.52, 2.94945001), (455.52, 0.82904063), (455.55, 2.12026974), (455.41, 14.455), (455.55, 2.94925577), (455.55, 0.82898603), (455.43, 2.1208284), (455.43, 2.95003286), (455.44, 14.455), (455.58, 0.014), (455.43, 2.1208284), (455.46, 0.82914984), (455.46, 2.94983855), (455.47, 14.455), (455.49, 0.82909523), (455.48, 0.014), (455.5, 0.0109989), (455.48, 0.27071272), (455.06, 0.63800954), (456.03, 3.13880666), (455.06, 0.01100954), (455.06, 0.21700954), (455.78, 1.30509891), (455.78, 1.28303891), (455.79, 0.0109919), (455.22, 0.014), (455.79, 1.023), (455.8, 0.01099166), (455.79, 0.615), (455.8, 0.21599166), (455.8, 1.03399166), (455.82, 1.023), (455.83, 0.01099094), (455.82, 0.88327355), (447.23, 25.19)]\n",
      "50\n"
     ]
    }
   ],
   "source": [
    "askside = []\n",
    "bidside = []\n",
    "\n",
    "print(data.tail())\n",
    "\n",
    "for i in range(len(data)):\n",
    "    for ask in data.ix[i, 'Asks']:\n",
    "        if float(ask[0]) in askside:\n",
    "            if float(ask[1]) == 0:\n",
    "                askside.remove(float(ask[0]))\n",
    "            else:\n",
    "                index = askside.index(ask[0])\n",
    "                #update volume\n",
    "                askside[index][1] += ask[1]\n",
    "        elif len(askside) >= 50:\n",
    "            if float(ask[1]) != 0:\n",
    "                if max(askside) > ask[0]:\n",
    "                    askside.remove(max(askside))\n",
    "                    askside.append((float(ask[0]), float(ask[1])))\n",
    "        else:\n",
    "            if float(ask[1]) != 0:\n",
    "                askside.append((float(ask[0]), float(ask[1])))\n",
    "    \n",
    "    for bid in data.ix[i, 'Bids']:\n",
    "        if float(bid[0]) in bidside:\n",
    "            if float(bid[1]) == 0:\n",
    "                bidside.remove(float(bid[0]))\n",
    "            else:\n",
    "                index = bidside.index(bid[0])\n",
    "                #update volume\n",
    "                bidside[index][1] += bid[1]\n",
    "        elif len(bidside) >= 50:\n",
    "            if float(bid[1]) != 0:\n",
    "                if min(bidside) > bid[0]:\n",
    "                    bidside.remove(min(bidside))\n",
    "                    bidside.append((float(bid[0]), float(bid[1])))\n",
    "        else:\n",
    "            if float(bid[1]) != 0:\n",
    "                bidside.append((float(bid[0]), float(bid[1])))\n",
    "        \n",
    "print(list(askside))\n",
    "print(len(askside))\n",
    "print(list(bidside))\n",
    "print(len(bidside))"
   ]
  },
  {
   "cell_type": "code",
   "execution_count": 242,
   "metadata": {
    "collapsed": false
   },
   "outputs": [
    {
     "ename": "TypeError",
     "evalue": "float() argument must be a string or a number, not 'list'",
     "output_type": "error",
     "traceback": [
      "\u001b[0;31m---------------------------------------------------------------------------\u001b[0m",
      "\u001b[0;31mTypeError\u001b[0m                                 Traceback (most recent call last)",
      "\u001b[0;32m<ipython-input-242-50b9d4bcc7bf>\u001b[0m in \u001b[0;36m<module>\u001b[0;34m()\u001b[0m\n\u001b[0;32m----> 1\u001b[0;31m \u001b[0mdata\u001b[0m\u001b[0;34m.\u001b[0m\u001b[0mBids\u001b[0m \u001b[0;34m=\u001b[0m \u001b[0mdata\u001b[0m\u001b[0;34m[\u001b[0m\u001b[0;34m'Bids'\u001b[0m\u001b[0;34m]\u001b[0m\u001b[0;34m.\u001b[0m\u001b[0mmap\u001b[0m\u001b[0;34m(\u001b[0m\u001b[0mfloat\u001b[0m\u001b[0;34m,\u001b[0m \u001b[0mre\u001b[0m\u001b[0;34m.\u001b[0m\u001b[0msplit\u001b[0m\u001b[0;34m(\u001b[0m\u001b[0;34m','\u001b[0m\u001b[0;34m,\u001b[0m \u001b[0mre\u001b[0m\u001b[0;34m.\u001b[0m\u001b[0msub\u001b[0m\u001b[0;34m(\u001b[0m\u001b[0;34m'[^0-9,.]'\u001b[0m\u001b[0;34m,\u001b[0m \u001b[0;34m''\u001b[0m\u001b[0;34m,\u001b[0m \u001b[0mb\u001b[0m\u001b[0;34m)\u001b[0m\u001b[0;34m)\u001b[0m\u001b[0;34m)\u001b[0m\u001b[0;34m\u001b[0m\u001b[0m\n\u001b[0m\u001b[1;32m      2\u001b[0m \u001b[0;34m\u001b[0m\u001b[0m\n\u001b[1;32m      3\u001b[0m \u001b[0mdata\u001b[0m\u001b[0;34m.\u001b[0m\u001b[0mhead\u001b[0m\u001b[0;34m(\u001b[0m\u001b[0;34m)\u001b[0m\u001b[0;34m\u001b[0m\u001b[0m\n",
      "\u001b[0;32m/Users/dlucsanszky/anaconda3/lib/python3.5/site-packages/pandas/core/series.py\u001b[0m in \u001b[0;36mmap\u001b[0;34m(self, arg, na_action)\u001b[0m\n\u001b[1;32m   2119\u001b[0m                                      index=self.index).__finalize__(self)\n\u001b[1;32m   2120\u001b[0m         \u001b[0;32melse\u001b[0m\u001b[0;34m:\u001b[0m\u001b[0;34m\u001b[0m\u001b[0m\n\u001b[0;32m-> 2121\u001b[0;31m             \u001b[0mmapped\u001b[0m \u001b[0;34m=\u001b[0m \u001b[0mmap_f\u001b[0m\u001b[0;34m(\u001b[0m\u001b[0mvalues\u001b[0m\u001b[0;34m,\u001b[0m \u001b[0marg\u001b[0m\u001b[0;34m)\u001b[0m\u001b[0;34m\u001b[0m\u001b[0m\n\u001b[0m\u001b[1;32m   2122\u001b[0m             return self._constructor(mapped,\n\u001b[1;32m   2123\u001b[0m                                      index=self.index).__finalize__(self)\n",
      "\u001b[0;32mpandas/src/inference.pyx\u001b[0m in \u001b[0;36mpandas.lib.map_infer (pandas/lib.c:63043)\u001b[0;34m()\u001b[0m\n",
      "\u001b[0;31mTypeError\u001b[0m: float() argument must be a string or a number, not 'list'"
     ]
    }
   ],
   "source": [
    "data.Bids = data['Bids'].map(float, re.split(',', re.sub('[^0-9,.]', '', b)))\n",
    "    \n",
    "data.head()"
   ]
  },
  {
   "cell_type": "code",
   "execution_count": null,
   "metadata": {
    "collapsed": true
   },
   "outputs": [],
   "source": []
  }
 ],
 "metadata": {
  "kernelspec": {
   "display_name": "Python 3",
   "language": "python",
   "name": "python3"
  },
  "language_info": {
   "codemirror_mode": {
    "name": "ipython",
    "version": 3
   },
   "file_extension": ".py",
   "mimetype": "text/x-python",
   "name": "python",
   "nbconvert_exporter": "python",
   "pygments_lexer": "ipython3",
   "version": "3.5.1"
  }
 },
 "nbformat": 4,
 "nbformat_minor": 0
}
