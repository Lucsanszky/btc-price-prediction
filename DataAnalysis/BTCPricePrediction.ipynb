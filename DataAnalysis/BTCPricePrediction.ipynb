{
 "cells": [
  {
   "cell_type": "code",
   "execution_count": 2,
   "metadata": {
    "collapsed": false,
    "scrolled": false
   },
   "outputs": [],
   "source": [
    "%matplotlib inline\n",
    "\n",
    "from deap import base, creator, tools, algorithms\n",
    "import math\n",
    "import matplotlib.pyplot as plt\n",
    "import numpy as np\n",
    "import pandas as pd\n",
    "import random\n",
    "from sklearn import preprocessing as preproc, datasets, linear_model\n",
    "from sklearn.metrics import mean_squared_error as mse, accuracy_score as acc_scr\n",
    "\n",
    "toolb = base.Toolbox()\n",
    "pd.set_option('html', False)\n",
    "np.set_printoptions(threshold=np.nan)\n",
    "plt.style.use('ggplot')"
   ]
  },
  {
   "cell_type": "markdown",
   "metadata": {},
   "source": [
    "# Data Preprocessing"
   ]
  },
  {
   "cell_type": "code",
   "execution_count": 3,
   "metadata": {
    "collapsed": false
   },
   "outputs": [],
   "source": [
    "# Note: chart names could occasionally change on blockchain.info\n",
    "URL = 'https://blockchain.info/charts/%s?timespan=all&format=csv'\n",
    "CHARTS = ['market-price',\n",
    "          'market-cap', \n",
    "          'transaction-fees-usd', \n",
    "          'n-transactions', \n",
    "          'n-unique-addresses', \n",
    "          'n-transactions-per-block',\n",
    "          'n-orphaned-blocks',\n",
    "          'output-volume',\n",
    "          'estimated-transaction-volume-usd',\n",
    "          'trade-volume',\n",
    "          'tx-trade-ratio',\n",
    "          'cost-per-transaction',\n",
    "          'hash-rate',\n",
    "          'difficulty',\n",
    "          'miners-revenue',\n",
    "          'median-confirmation-time',\n",
    "          'bitcoin-days-destroyed',\n",
    "          'avg-block-size'\n",
    "         ]\n",
    "\n",
    "FRAMES = []   # contains everything as DataFrames from charts\n",
    "FEATURES = [] # standardized DataFrames from charts, excluding market-price\n",
    "\n",
    "date_parse = lambda x: pd.datetime.strptime(x, '%d/%m/%Y %H:%M:%S')\n",
    "\n",
    "def prep_data(date_from, date_to):\n",
    "    # Create DataFrame from the market-price\n",
    "    data = pd.read_csv(URL % CHARTS[0], parse_dates=[0], date_parser = date_parse)\n",
    "    data.columns = ['date', CHARTS[0]]\n",
    "    \n",
    "    df = pd.DataFrame(data)\n",
    "    df['date'] = df['date'].apply(lambda x: x.date())\n",
    "    df = df.drop_duplicates(['date']).set_index('date').reindex(pd.date_range(start = date_from, end = date_to))\n",
    "    FRAMES.append(df)\n",
    "\n",
    "    # Create data frames from the rest of the charts\n",
    "    for chart in CHARTS[1:]:\n",
    "        data = pd.read_csv(URL % chart, parse_dates=[0], date_parser = date_parse)\n",
    "        data.columns = ['date', chart]\n",
    "    \n",
    "        df = pd.DataFrame(data)\n",
    "        df['date'] = df['date'].apply(lambda x: x.date())\n",
    "        df = df.drop_duplicates(['date']).set_index('date').reindex(pd.date_range(start = date_from, end = date_to))\n",
    "        FRAMES.append(df)\n",
    "\n",
    "        # Standardize the values inside the DataFrame\n",
    "        data_np = df.as_matrix()\n",
    "        scaler = preproc.StandardScaler().fit(data_np)\n",
    "        data_np_standard = scaler.transform(data_np)\n",
    "\n",
    "        # Create a new DataFrame from the standardized values\n",
    "        df_standard = pd.DataFrame(data=data_np_standard, index=df.index, columns=df.columns)\n",
    "        FEATURES.append(df_standard)\n",
    "        \n",
    "prep_data('1/4/2012', '4/13/2016')"
   ]
  },
  {
   "cell_type": "markdown",
   "metadata": {},
   "source": [
    "# Linear Regression with R<sup>2</sup> statistic fitness function"
   ]
  },
  {
   "cell_type": "code",
   "execution_count": 21,
   "metadata": {
    "collapsed": false
   },
   "outputs": [],
   "source": [
    "def filter_features(mask):\n",
    "    return list(map(lambda t: t[1], filter(lambda t: t[0], zip(mask, FEATURES))))\n",
    "\n",
    "def fitness_fun_R2(indiv):\n",
    "    if(sum(indiv) == 0):\n",
    "        indiv[0] = 1\n",
    "    \n",
    "    filtered_features = filter_features(indiv)\n",
    "    size = len(filtered_features)\n",
    "    filtered_features = pd.concat(filtered_features, axis = 1)\n",
    "    btc_features = pd.DataFrame(filtered_features.values).as_matrix()\n",
    "    btc_target = pd.DataFrame(FRAMES[0]).as_matrix().flatten()\n",
    "    \n",
    "    # 60% of the data will be used for training,\n",
    "    # 20% will be used for validation and testing.\n",
    "    \n",
    "    btc_X_train = btc_features[:int(0.7*len(btc_features))]\n",
    "    btc_X_validation = btc_features[int(0.7*len(btc_features)):int(0.8*len(btc_features))]\n",
    "\n",
    "    btc_y_train = btc_target[:int(0.7*len(btc_target))]\n",
    "    btc_y_validation = btc_target[int(0.7*len(btc_target)):int(0.8*len(btc_target))]\n",
    "    \n",
    "    # Create the learner\n",
    "\n",
    "    regr = linear_model.LinearRegression()\n",
    "\n",
    "    # Train the learner on the training data\n",
    "    # and evaluate the performance by the test data\n",
    "\n",
    "    regr.fit(btc_X_train, btc_y_train)\n",
    "    #print ('Variance score: %.9f, %d' % (regr.score(btc_X_validation, btc_y_validation), size))\n",
    "    #plt.scatter(size, regr.score(btc_X_test, btc_y_test), marker='.')\n",
    "    \n",
    "    return regr.score(btc_X_validation, btc_y_validation), size\n",
    "\n",
    "creator.create(\"FitnessMulti\", base.Fitness, weights=(1.0,-1.0))\n",
    "creator.create(\"Individual\", list, fitness=creator.FitnessMulti) "
   ]
  },
  {
   "cell_type": "code",
   "execution_count": 28,
   "metadata": {
    "collapsed": false
   },
   "outputs": [],
   "source": [
    "def filter_features(mask):\n",
    "    return list(map(lambda t: t[1], filter(lambda t: t[0], zip(mask, FEATURES))))\n",
    "\n",
    "def fitness_fun(model):\n",
    "    method, metric, indiv = model\n",
    "    if(sum(indiv) == 0):\n",
    "        indiv[0] = 1\n",
    "    \n",
    "    filtered_features = filter_features(indiv)\n",
    "    size = len(filtered_features)\n",
    "    filtered_features = pd.concat(filtered_features, axis = 1)\n",
    "    btc_features = pd.DataFrame(filtered_features.values).as_matrix()\n",
    "    btc_target = pd.DataFrame(FRAMES[0]).as_matrix().flatten()\n",
    "    \n",
    "    # 60% of the data will be used for training,\n",
    "    # 20% will be used for validation and testing.\n",
    "    \n",
    "    btc_X_train = btc_features[:int(0.7*len(btc_features))]\n",
    "    btc_X_validation = btc_features[int(0.7*len(btc_features)):int(0.8*len(btc_features))]\n",
    "\n",
    "    btc_y_train = btc_target[:int(0.7*len(btc_target))]\n",
    "    btc_y_validation = btc_target[int(0.7*len(btc_target)):int(0.8*len(btc_target))]\n",
    "    \n",
    "    # Create the learner\n",
    "\n",
    "    #regr = linear_model.LinearRegression()\n",
    "\n",
    "    # Train the learner on the training data\n",
    "    # and evaluate the performance by the test data\n",
    "\n",
    "    method.fit(btc_X_train, btc_y_train)\n",
    "    #print ('Variance score: %.9f, %d' % (regr.score(btc_X_validation, btc_y_validation), size))\n",
    "    #plt.scatter(size, regr.score(btc_X_test, btc_y_test), marker='.')\n",
    "    \n",
    "    return metric(btc_X_validation, btc_y_validation), size\n",
    "\n",
    "creator.create(\"FitnessMulti\", base.Fitness, weights=(1.0,-1.0))\n",
    "creator.create(\"Individual\", list, fitness=creator.FitnessMulti) "
   ]
  },
  {
   "cell_type": "code",
   "execution_count": null,
   "metadata": {
    "collapsed": false
   },
   "outputs": [],
   "source": [
    "gens = 100\n",
    "indiv_num = 50\n",
    "\n",
    "toolb.register('bit', random.randint, 0, 1)\n",
    "toolb.register('individual', tools.initRepeat, creator.Individual, toolb.bit, n = len(FEATURES))\n",
    "toolb.register('population', tools.initRepeat, list, toolb.individual, n = indiv_num)\n",
    "toolb.register('evaluate', fitness_fun)\n",
    "toolb.register('mate', tools.cxUniform, indpb = 0.1)\n",
    "toolb.register('mutate', tools.mutFlipBit, indpb = 0.05)\n",
    "toolb.register('select', tools.selNSGA2)\n",
    "\n",
    "regr = linear_model.LinearRegression()\n",
    "\n",
    "population = toolb.population()\n",
    "fits = map (toolb.evaluate, map(lambda x: (regr, regr.score, x), population))\n",
    "#print(list(fits))\n",
    "hof = tools.HallOfFame(1)\n",
    "\n",
    "for fit, ind in zip(fits, population):\n",
    "    ind.fitness.values = fit\n",
    "\n",
    "plt.ylim([0.8,1])\n",
    "fig = plt.gcf()\n",
    "fig.set_size_inches(5,5)\n",
    "\n",
    "best = np.ndarray((gens, 1))\n",
    "top_RMSE = []\n",
    "\n",
    "for gen in range(gens):\n",
    "    offspring = algorithms.varOr(population, toolb, lambda_ = indiv_num, cxpb = 0.5, mutpb = 0.1)\n",
    "    hof.update(offspring)\n",
    "    fits = map (toolb.evaluate, map(lambda x: (regr, regr.score, x), population))\n",
    "    for fit, ind in zip(fits, offspring):\n",
    "        ind.fitness.values = fit\n",
    "    population = toolb.select(offspring + population, k = indiv_num)\n",
    "    #print(hof[0].fitness.values)\n",
    "    best[gen] = hof[0].fitness.values[0]\n",
    "    top_RMSE = hof[0]\n",
    "\n",
    "x = list(range(0, indiv_num * gens, indiv_num))\n",
    "plt.plot(x, best)\n",
    "print (\"Selected features: \", list(map(lambda t: t[1], filter(lambda t: t[0], zip(hof[0], CHARTS[1:])))))"
   ]
  },
  {
   "cell_type": "code",
   "execution_count": 238,
   "metadata": {
    "collapsed": false
   },
   "outputs": [
    {
     "data": {
      "text/plain": [
       "[(1, 1), (1, 2), (1, 3), (1, 4)]"
      ]
     },
     "execution_count": 238,
     "metadata": {},
     "output_type": "execute_result"
    }
   ],
   "source": [
    "list(map(lambda x: (1,x), [1,2,3,4]))"
   ]
  },
  {
   "cell_type": "markdown",
   "metadata": {},
   "source": [
    "# NSGAII-MLR with R<sup>2</sup> Statistics"
   ]
  },
  {
   "cell_type": "code",
   "execution_count": 25,
   "metadata": {
    "collapsed": false,
    "scrolled": true
   },
   "outputs": [
    {
     "name": "stdout",
     "output_type": "stream",
     "text": [
      "Selected features:  ['market-cap', 'transaction-fees-usd', 'n-transactions-per-block', 'output-volume', 'estimated-transaction-volume-usd', 'trade-volume', 'tx-trade-ratio', 'cost-per-transaction', 'avg-block-size']\n"
     ]
    },
    {
     "data": {
      "image/png": "[encoded data removed]",
      "text/plain": [
       "<matplotlib.figure.Figure at 0x10ef4d7f0>"
      ]
     },
     "metadata": {},
     "output_type": "display_data"
    }
   ],
   "source": [
    "# Concatenate the features in order to group them by date\n",
    "gens = 100\n",
    "indiv_num = 50\n",
    "\n",
    "toolb.register('bit', random.randint, 0, 1)\n",
    "toolb.register('individual', tools.initRepeat, creator.Individual, toolb.bit, n = len(FEATURES))\n",
    "toolb.register('population', tools.initRepeat, list, toolb.individual, n = indiv_num)\n",
    "toolb.register('evaluate', fitness_fun_R2)\n",
    "toolb.register('mate', tools.cxUniform, indpb = 0.1)\n",
    "toolb.register('mutate', tools.mutFlipBit, indpb = 0.05)\n",
    "toolb.register('select', tools.selNSGA2)\n",
    "\n",
    "population = toolb.population()\n",
    "fits = map (toolb.evaluate, population)\n",
    "#print(list(fits))\n",
    "hof = tools.HallOfFame(1)\n",
    "\n",
    "for fit, ind in zip(fits, population):\n",
    "    ind.fitness.values = fit\n",
    "\n",
    "plt.ylim([0.8,1])\n",
    "fig = plt.gcf()\n",
    "fig.set_size_inches(5,5)\n",
    "\n",
    "best = np.ndarray((gens, 1))\n",
    "top_RMSE = []\n",
    "\n",
    "for gen in range(gens):\n",
    "    offspring = algorithms.varOr(population, toolb, lambda_ = indiv_num, cxpb = 0.5, mutpb = 0.1)\n",
    "    hof.update(offspring)\n",
    "    fits = map (toolb.evaluate, offspring)\n",
    "    for fit, ind in zip(fits, offspring):\n",
    "        ind.fitness.values = fit\n",
    "    population = toolb.select(offspring + population, k = indiv_num)\n",
    "    #print(hof[0].fitness.values)\n",
    "    best[gen] = hof[0].fitness.values[0]\n",
    "    top_RMSE = hof[0]\n",
    "\n",
    "x = list(range(0, indiv_num * gens, indiv_num))\n",
    "plt.plot(x, best)\n",
    "print (\"Selected features: \", list(map(lambda t: t[1], filter(lambda t: t[0], zip(hof[0], CHARTS[1:])))))"
   ]
  },
  {
   "cell_type": "markdown",
   "metadata": {},
   "source": [
    "# Linear Regression with RMSE fitness function"
   ]
  },
  {
   "cell_type": "code",
   "execution_count": 19,
   "metadata": {
    "collapsed": false
   },
   "outputs": [],
   "source": [
    "def fitness_fun_RMSE(indiv):\n",
    "    if(sum(indiv) == 0):\n",
    "        indiv[0] = 1\n",
    "        \n",
    "    filtered_features = filter_features(indiv)\n",
    "    size = len(filtered_features)\n",
    "    filtered_features = pd.concat(filtered_features, axis = 1)\n",
    "    btc_features = pd.DataFrame(filtered_features.values).as_matrix()\n",
    "    btc_target = pd.DataFrame(FRAMES[0]).as_matrix().flatten()\n",
    "    \n",
    "    # 60% of the data will be used for training,\n",
    "    # 20% will be used for validation and testing. \n",
    "\n",
    "    btc_X_train = btc_features[:int(0.7*len(btc_features))]\n",
    "    btc_X_validation = btc_features[int(0.7*len(btc_features)):int(0.8*len(btc_features))]\n",
    "\n",
    "    btc_y_train = btc_target[:int(0.7*len(btc_target))]\n",
    "    btc_y_validation = btc_target[int(0.7*len(btc_target)):int(0.8*len(btc_target))]\n",
    "\n",
    "    # Create the learner\n",
    "\n",
    "    regr = linear_model.LinearRegression()\n",
    "\n",
    "    # Train the learner on the training data\n",
    "    # and evaluate the performance by the test data\n",
    "\n",
    "    regr.fit(btc_X_train, btc_y_train)\n",
    "    #print ('RMSE: %.9f, %d' % (math.sqrt(mse(btc_y_validation, regr.predict(btc_X_validation))), size))\n",
    "    \n",
    "    return math.sqrt(mse(btc_y_validation, regr.predict(btc_X_validation))), size\n",
    "\n",
    "creator.create(\"FitnessMulti\", base.Fitness, weights=(-1.0,-1.0))\n",
    "creator.create(\"Individual\", list, fitness=creator.FitnessMulti)"
   ]
  },
  {
   "cell_type": "markdown",
   "metadata": {},
   "source": [
    "# NSGAII-MLR with RMSE"
   ]
  },
  {
   "cell_type": "code",
   "execution_count": 20,
   "metadata": {
    "collapsed": false,
    "scrolled": true
   },
   "outputs": [
    {
     "name": "stdout",
     "output_type": "stream",
     "text": [
      "Selected features:  ['market-cap', 'n-transactions-per-block', 'output-volume', 'trade-volume', 'cost-per-transaction', 'bitcoin-days-destroyed', 'avg-block-size']\n"
     ]
    },
    {
     "data": {
      "image/png": "[encoded data removed]",
      "text/plain": [
       "<matplotlib.figure.Figure at 0x10cf2c9b0>"
      ]
     },
     "metadata": {},
     "output_type": "display_data"
    }
   ],
   "source": [
    "# Concatenate the features in order to group them by date\n",
    "gens = 100\n",
    "indiv_num = 50\n",
    "\n",
    "toolb.register('bit', random.randint, 0, 1)\n",
    "toolb.register('individual', tools.initRepeat, creator.Individual, toolb.bit, n = len(FEATURES))\n",
    "toolb.register('population', tools.initRepeat, list, toolb.individual, n = indiv_num)\n",
    "toolb.register('evaluate', fitness_fun_RMSE)\n",
    "toolb.register('mate', tools.cxUniform, indpb = 0.1)\n",
    "toolb.register('mutate', tools.mutFlipBit, indpb = 0.05)\n",
    "toolb.register('select', tools.selNSGA2)\n",
    "\n",
    "population = toolb.population()\n",
    "fits = map (toolb.evaluate, population)\n",
    "hof = tools.HallOfFame(1)\n",
    "\n",
    "for fit, ind in zip(fits, population):\n",
    "    ind.fitness.values = fit\n",
    "\n",
    "plt.ylim([0,20])\n",
    "fig = plt.gcf()\n",
    "fig.set_size_inches(5,5)\n",
    "\n",
    "best = np.ndarray((gens, 1))\n",
    "top_R2 = []\n",
    "\n",
    "for gen in range(gens):\n",
    "    offspring = algorithms.varOr(population, toolb, lambda_ = indiv_num, cxpb = 0.5, mutpb = 0.1)\n",
    "    hof.update(offspring)\n",
    "    fits = map (toolb.evaluate, offspring)\n",
    "    for fit, ind in zip(fits, offspring):\n",
    "        ind.fitness.values = fit\n",
    "    population = toolb.select(offspring + population, k = indiv_num)\n",
    "    #print(hof[0].fitness.values)\n",
    "    best[gen] = hof[0].fitness.values[0]\n",
    "    top_R2 = hof[0]\n",
    "\n",
    "x = list(range(0, indiv_num * gens, indiv_num))\n",
    "plt.plot(x, best)\n",
    "print (\"Selected features: \", list(map(lambda t: t[1], filter(lambda t: t[0], zip(hof[0], CHARTS[1:])))))"
   ]
  },
  {
   "cell_type": "markdown",
   "metadata": {},
   "source": [
    "# Visualizing the actual and predicted prices "
   ]
  },
  {
   "cell_type": "code",
   "execution_count": null,
   "metadata": {
    "collapsed": false,
    "scrolled": true
   },
   "outputs": [],
   "source": [
    "#for f in frames:\n",
    "#    f.plot()\n",
    "    \n",
    "\n",
    "#features.plot(figsize = (25,25))\n"
   ]
  },
  {
   "cell_type": "code",
   "execution_count": null,
   "metadata": {
    "collapsed": false
   },
   "outputs": [],
   "source": []
  },
  {
   "cell_type": "code",
   "execution_count": 226,
   "metadata": {
    "collapsed": false
   },
   "outputs": [
    {
     "name": "stdout",
     "output_type": "stream",
     "text": [
      "RMSE: 22.754526505\n",
      "Variance score: 0.918056617\n"
     ]
    },
    {
     "name": "stderr",
     "output_type": "stream",
     "text": [
      "/Library/Frameworks/Python.framework/Versions/3.5/lib/python3.5/site-packages/sklearn/preprocessing/data.py:583: DeprecationWarning: Passing 1d arrays as data is deprecated in 0.17 and will raise ValueError in 0.19. Reshape your data either using X.reshape(-1, 1) if your data has a single feature or X.reshape(1, -1) if it contains a single sample.\n",
      "  warnings.warn(DEPRECATION_MSG_1D, DeprecationWarning)\n",
      "/Library/Frameworks/Python.framework/Versions/3.5/lib/python3.5/site-packages/sklearn/preprocessing/data.py:583: DeprecationWarning: Passing 1d arrays as data is deprecated in 0.17 and will raise ValueError in 0.19. Reshape your data either using X.reshape(-1, 1) if your data has a single feature or X.reshape(1, -1) if it contains a single sample.\n",
      "  warnings.warn(DEPRECATION_MSG_1D, DeprecationWarning)\n",
      "/Library/Frameworks/Python.framework/Versions/3.5/lib/python3.5/site-packages/sklearn/preprocessing/data.py:646: DeprecationWarning: Passing 1d arrays as data is deprecated in 0.17 and will raise ValueError in 0.19. Reshape your data either using X.reshape(-1, 1) if your data has a single feature or X.reshape(1, -1) if it contains a single sample.\n",
      "  warnings.warn(DEPRECATION_MSG_1D, DeprecationWarning)\n",
      "/Library/Frameworks/Python.framework/Versions/3.5/lib/python3.5/site-packages/sklearn/preprocessing/data.py:646: DeprecationWarning: Passing 1d arrays as data is deprecated in 0.17 and will raise ValueError in 0.19. Reshape your data either using X.reshape(-1, 1) if your data has a single feature or X.reshape(1, -1) if it contains a single sample.\n",
      "  warnings.warn(DEPRECATION_MSG_1D, DeprecationWarning)\n"
     ]
    },
    {
     "data": {
      "image/png": "[encoded data removed]",
      "text/plain": [
       "<matplotlib.figure.Figure at 0x10e836cc0>"
      ]
     },
     "metadata": {},
     "output_type": "display_data"
    }
   ],
   "source": [
    "selected = map(lambda t: t[0] and t[1], zip(top_R2, top_RMSE))\n",
    "\n",
    "filtered_features = filter_features(list(selected))\n",
    "filtered_features = pd.concat(filtered_features, axis = 1)\n",
    "btc_features = pd.DataFrame(filtered_features.values).as_matrix()\n",
    "btc_target = pd.DataFrame(FRAMES[0]).as_matrix().flatten()\n",
    "\n",
    "btc_X_train = btc_features[:int(0.7*len(btc_features))]\n",
    "btc_X_validation = btc_features[int(0.7*len(btc_features)):int(0.8*len(btc_features))]\n",
    "\n",
    "btc_y_train = btc_target[:int(0.7*len(btc_target))]\n",
    "btc_y_validation = btc_target[int(0.7*len(btc_target)):int(0.8*len(btc_target))]\n",
    "\n",
    "# Create the learner\n",
    "\n",
    "regr = linear_model.LinearRegression()\n",
    "\n",
    "# Train the learner on the training data\n",
    "# and evaluate the performance by the test data\n",
    "\n",
    "regr.fit(btc_X_train, btc_y_train)\n",
    "btc_X_test = btc_features[int(0.8*len(btc_features)):]\n",
    "btc_y_test = btc_target[int(0.8*len(btc_target)):]\n",
    "scaler_act = preproc.StandardScaler().fit(btc_y_test)\n",
    "scaler_pred = preproc.StandardScaler().fit(regr.predict(btc_X_test))\n",
    "standardized_act = scaler_act.transform(btc_y_test)\n",
    "standardized_pred = scaler_pred.transform(regr.predict(btc_X_test))\n",
    "\n",
    "x = list(range(0, len(btc_y_test)))\n",
    "\n",
    "plt.figure(figsize = (10,10))\n",
    "plt.plot(x, standardized_act, label = 'Actual Prices')\n",
    "plt.plot(x, standardized_pred, label = 'Predicted Prices')\n",
    "plt.legend()\n",
    "\n",
    "print ('RMSE: %.9f' % (math.sqrt(mse(btc_y_test, regr.predict(btc_X_test)))))\n",
    "print ('Variance score: %.9f' % (regr.score(btc_X_test, btc_y_test)))"
   ]
  },
  {
   "cell_type": "markdown",
   "metadata": {},
   "source": [
    "# Price values"
   ]
  },
  {
   "cell_type": "code",
   "execution_count": null,
   "metadata": {
    "collapsed": false,
    "scrolled": false
   },
   "outputs": [],
   "source": [
    "compare_df = pd.DataFrame(data = list(zip(btc_y_test, regr.predict(btc_X_test))), \n",
    "                          index = features.index[int(0.7*len(btc_target)):], \n",
    "                          columns = ['actual', 'predicted'])\n",
    "compare_df"
   ]
  },
  {
   "cell_type": "code",
   "execution_count": null,
   "metadata": {
    "collapsed": true
   },
   "outputs": [],
   "source": []
  }
 ],
 "metadata": {
  "kernelspec": {
   "display_name": "Python 3",
   "language": "python",
   "name": "python3"
  },
  "language_info": {
   "codemirror_mode": {
    "name": "ipython",
    "version": 3
   },
   "file_extension": ".py",
   "mimetype": "text/x-python",
   "name": "python",
   "nbconvert_exporter": "python",
   "pygments_lexer": "ipython3",
   "version": "3.5.1"
  }
 },
 "nbformat": 4,
 "nbformat_minor": 0
}
