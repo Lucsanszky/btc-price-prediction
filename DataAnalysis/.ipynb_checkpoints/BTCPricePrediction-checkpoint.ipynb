{
 "cells": [
  {
   "cell_type": "code",
   "execution_count": 3,
   "metadata": {
    "collapsed": false,
    "scrolled": false
   },
   "outputs": [],
   "source": [
    "%matplotlib inline\n",
    "\n",
    "import random\n",
    "import numpy as np\n",
    "import pandas as pd\n",
    "import matplotlib.pyplot as plt\n",
    "from deap import base, creator, tools, algorithms\n",
    "from sklearn import preprocessing as preproc, datasets, linear_model \n",
    "\n",
    "pd.set_option('html', False)\n",
    "np.set_printoptions(threshold=np.nan)"
   ]
  },
  {
   "cell_type": "markdown",
   "metadata": {},
   "source": [
    "# Data Preprocessing"
   ]
  },
  {
   "cell_type": "code",
   "execution_count": 6,
   "metadata": {
    "collapsed": false
   },
   "outputs": [
    {
     "name": "stdout",
     "output_type": "stream",
     "text": [
      "market-cap\n",
      "transaction-fees-usd\n",
      "n-transactions\n",
      "n-unique-addresses\n",
      "n-transactions-per-block\n",
      "n-orphaned-blocks\n",
      "output-volume\n",
      "estimated-transaction-volume-usd\n",
      "trade-volume\n",
      "tx-trade-ratio\n",
      "cost-per-transaction\n",
      "hash-rate\n",
      "difficulty\n",
      "miners-revenue\n",
      "avg-confirmation-time\n"
     ]
    },
    {
     "ename": "CParserError",
     "evalue": "Error tokenizing data. C error: Expected 1 fields in line 8, saw 4\n",
     "output_type": "error",
     "traceback": [
      "\u001b[0;31m---------------------------------------------------------------------------\u001b[0m",
      "\u001b[0;31mCParserError\u001b[0m                              Traceback (most recent call last)",
      "\u001b[0;32m<ipython-input-6-52f95ab07dfc>\u001b[0m in \u001b[0;36m<module>\u001b[0;34m()\u001b[0m\n\u001b[1;32m     35\u001b[0m \u001b[0;32mfor\u001b[0m \u001b[0mchart\u001b[0m \u001b[0;32min\u001b[0m \u001b[0mcharts\u001b[0m\u001b[0;34m[\u001b[0m\u001b[0;36m1\u001b[0m\u001b[0;34m:\u001b[0m\u001b[0;34m]\u001b[0m\u001b[0;34m:\u001b[0m\u001b[0;34m\u001b[0m\u001b[0m\n\u001b[1;32m     36\u001b[0m     \u001b[0mprint\u001b[0m\u001b[0;34m(\u001b[0m\u001b[0mchart\u001b[0m\u001b[0;34m)\u001b[0m\u001b[0;34m\u001b[0m\u001b[0m\n\u001b[0;32m---> 37\u001b[0;31m     \u001b[0mdata\u001b[0m \u001b[0;34m=\u001b[0m \u001b[0mpd\u001b[0m\u001b[0;34m.\u001b[0m\u001b[0mread_csv\u001b[0m\u001b[0;34m(\u001b[0m\u001b[0murl\u001b[0m \u001b[0;34m%\u001b[0m \u001b[0mchart\u001b[0m\u001b[0;34m,\u001b[0m \u001b[0mparse_dates\u001b[0m\u001b[0;34m=\u001b[0m\u001b[0;34m[\u001b[0m\u001b[0;36m0\u001b[0m\u001b[0;34m]\u001b[0m\u001b[0;34m,\u001b[0m \u001b[0mdate_parser\u001b[0m \u001b[0;34m=\u001b[0m \u001b[0mdateparse\u001b[0m\u001b[0;34m)\u001b[0m\u001b[0;34m\u001b[0m\u001b[0m\n\u001b[0m\u001b[1;32m     38\u001b[0m     \u001b[0mdata\u001b[0m\u001b[0;34m.\u001b[0m\u001b[0mcolumns\u001b[0m \u001b[0;34m=\u001b[0m \u001b[0;34m[\u001b[0m\u001b[0;34m'date'\u001b[0m\u001b[0;34m,\u001b[0m \u001b[0mchart\u001b[0m\u001b[0;34m]\u001b[0m\u001b[0;34m\u001b[0m\u001b[0m\n\u001b[1;32m     39\u001b[0m \u001b[0;34m\u001b[0m\u001b[0m\n",
      "\u001b[0;32m/Library/Frameworks/Python.framework/Versions/3.5/lib/python3.5/site-packages/pandas/io/parsers.py\u001b[0m in \u001b[0;36mparser_f\u001b[0;34m(filepath_or_buffer, sep, dialect, compression, doublequote, escapechar, quotechar, quoting, skipinitialspace, lineterminator, header, index_col, names, prefix, skiprows, skipfooter, skip_footer, na_values, true_values, false_values, delimiter, converters, dtype, usecols, engine, delim_whitespace, as_recarray, na_filter, compact_ints, use_unsigned, low_memory, buffer_lines, warn_bad_lines, error_bad_lines, keep_default_na, thousands, comment, decimal, parse_dates, keep_date_col, dayfirst, date_parser, memory_map, float_precision, nrows, iterator, chunksize, verbose, encoding, squeeze, mangle_dupe_cols, tupleize_cols, infer_datetime_format, skip_blank_lines)\u001b[0m\n\u001b[1;32m    496\u001b[0m                     skip_blank_lines=skip_blank_lines)\n\u001b[1;32m    497\u001b[0m \u001b[0;34m\u001b[0m\u001b[0m\n\u001b[0;32m--> 498\u001b[0;31m         \u001b[0;32mreturn\u001b[0m \u001b[0m_read\u001b[0m\u001b[0;34m(\u001b[0m\u001b[0mfilepath_or_buffer\u001b[0m\u001b[0;34m,\u001b[0m \u001b[0mkwds\u001b[0m\u001b[0;34m)\u001b[0m\u001b[0;34m\u001b[0m\u001b[0m\n\u001b[0m\u001b[1;32m    499\u001b[0m \u001b[0;34m\u001b[0m\u001b[0m\n\u001b[1;32m    500\u001b[0m     \u001b[0mparser_f\u001b[0m\u001b[0;34m.\u001b[0m\u001b[0m__name__\u001b[0m \u001b[0;34m=\u001b[0m \u001b[0mname\u001b[0m\u001b[0;34m\u001b[0m\u001b[0m\n",
      "\u001b[0;32m/Library/Frameworks/Python.framework/Versions/3.5/lib/python3.5/site-packages/pandas/io/parsers.py\u001b[0m in \u001b[0;36m_read\u001b[0;34m(filepath_or_buffer, kwds)\u001b[0m\n\u001b[1;32m    283\u001b[0m         \u001b[0;32mreturn\u001b[0m \u001b[0mparser\u001b[0m\u001b[0;34m\u001b[0m\u001b[0m\n\u001b[1;32m    284\u001b[0m \u001b[0;34m\u001b[0m\u001b[0m\n\u001b[0;32m--> 285\u001b[0;31m     \u001b[0;32mreturn\u001b[0m \u001b[0mparser\u001b[0m\u001b[0;34m.\u001b[0m\u001b[0mread\u001b[0m\u001b[0;34m(\u001b[0m\u001b[0;34m)\u001b[0m\u001b[0;34m\u001b[0m\u001b[0m\n\u001b[0m\u001b[1;32m    286\u001b[0m \u001b[0;34m\u001b[0m\u001b[0m\n\u001b[1;32m    287\u001b[0m _parser_defaults = {\n",
      "\u001b[0;32m/Library/Frameworks/Python.framework/Versions/3.5/lib/python3.5/site-packages/pandas/io/parsers.py\u001b[0m in \u001b[0;36mread\u001b[0;34m(self, nrows)\u001b[0m\n\u001b[1;32m    745\u001b[0m                 \u001b[0;32mraise\u001b[0m \u001b[0mValueError\u001b[0m\u001b[0;34m(\u001b[0m\u001b[0;34m'skip_footer not supported for iteration'\u001b[0m\u001b[0;34m)\u001b[0m\u001b[0;34m\u001b[0m\u001b[0m\n\u001b[1;32m    746\u001b[0m \u001b[0;34m\u001b[0m\u001b[0m\n\u001b[0;32m--> 747\u001b[0;31m         \u001b[0mret\u001b[0m \u001b[0;34m=\u001b[0m \u001b[0mself\u001b[0m\u001b[0;34m.\u001b[0m\u001b[0m_engine\u001b[0m\u001b[0;34m.\u001b[0m\u001b[0mread\u001b[0m\u001b[0;34m(\u001b[0m\u001b[0mnrows\u001b[0m\u001b[0;34m)\u001b[0m\u001b[0;34m\u001b[0m\u001b[0m\n\u001b[0m\u001b[1;32m    748\u001b[0m \u001b[0;34m\u001b[0m\u001b[0m\n\u001b[1;32m    749\u001b[0m         \u001b[0;32mif\u001b[0m \u001b[0mself\u001b[0m\u001b[0;34m.\u001b[0m\u001b[0moptions\u001b[0m\u001b[0;34m.\u001b[0m\u001b[0mget\u001b[0m\u001b[0;34m(\u001b[0m\u001b[0;34m'as_recarray'\u001b[0m\u001b[0;34m)\u001b[0m\u001b[0;34m:\u001b[0m\u001b[0;34m\u001b[0m\u001b[0m\n",
      "\u001b[0;32m/Library/Frameworks/Python.framework/Versions/3.5/lib/python3.5/site-packages/pandas/io/parsers.py\u001b[0m in \u001b[0;36mread\u001b[0;34m(self, nrows)\u001b[0m\n\u001b[1;32m   1195\u001b[0m     \u001b[0;32mdef\u001b[0m \u001b[0mread\u001b[0m\u001b[0;34m(\u001b[0m\u001b[0mself\u001b[0m\u001b[0;34m,\u001b[0m \u001b[0mnrows\u001b[0m\u001b[0;34m=\u001b[0m\u001b[0;32mNone\u001b[0m\u001b[0;34m)\u001b[0m\u001b[0;34m:\u001b[0m\u001b[0;34m\u001b[0m\u001b[0m\n\u001b[1;32m   1196\u001b[0m         \u001b[0;32mtry\u001b[0m\u001b[0;34m:\u001b[0m\u001b[0;34m\u001b[0m\u001b[0m\n\u001b[0;32m-> 1197\u001b[0;31m             \u001b[0mdata\u001b[0m \u001b[0;34m=\u001b[0m \u001b[0mself\u001b[0m\u001b[0;34m.\u001b[0m\u001b[0m_reader\u001b[0m\u001b[0;34m.\u001b[0m\u001b[0mread\u001b[0m\u001b[0;34m(\u001b[0m\u001b[0mnrows\u001b[0m\u001b[0;34m)\u001b[0m\u001b[0;34m\u001b[0m\u001b[0m\n\u001b[0m\u001b[1;32m   1198\u001b[0m         \u001b[0;32mexcept\u001b[0m \u001b[0mStopIteration\u001b[0m\u001b[0;34m:\u001b[0m\u001b[0;34m\u001b[0m\u001b[0m\n\u001b[1;32m   1199\u001b[0m             \u001b[0;32mif\u001b[0m \u001b[0mself\u001b[0m\u001b[0;34m.\u001b[0m\u001b[0m_first_chunk\u001b[0m\u001b[0;34m:\u001b[0m\u001b[0;34m\u001b[0m\u001b[0m\n",
      "\u001b[0;32mpandas/parser.pyx\u001b[0m in \u001b[0;36mpandas.parser.TextReader.read (pandas/parser.c:7988)\u001b[0;34m()\u001b[0m\n",
      "\u001b[0;32mpandas/parser.pyx\u001b[0m in \u001b[0;36mpandas.parser.TextReader._read_low_memory (pandas/parser.c:8244)\u001b[0;34m()\u001b[0m\n",
      "\u001b[0;32mpandas/parser.pyx\u001b[0m in \u001b[0;36mpandas.parser.TextReader._read_rows (pandas/parser.c:8970)\u001b[0;34m()\u001b[0m\n",
      "\u001b[0;32mpandas/parser.pyx\u001b[0m in \u001b[0;36mpandas.parser.TextReader._tokenize_rows (pandas/parser.c:8838)\u001b[0;34m()\u001b[0m\n",
      "\u001b[0;32mpandas/parser.pyx\u001b[0m in \u001b[0;36mpandas.parser.raise_parser_error (pandas/parser.c:22649)\u001b[0;34m()\u001b[0m\n",
      "\u001b[0;31mCParserError\u001b[0m: Error tokenizing data. C error: Expected 1 fields in line 8, saw 4\n"
     ]
    }
   ],
   "source": [
    "url = 'https://blockchain.info/charts/%s?timespan=all&format=csv'\n",
    "charts = ['market-price',\n",
    "          'market-cap', \n",
    "          'transaction-fees-usd', \n",
    "          'n-transactions', \n",
    "          'n-unique-addresses', \n",
    "          'n-transactions-per-block',\n",
    "          'n-orphaned-blocks',\n",
    "          'output-volume',\n",
    "          'estimated-transaction-volume-usd',\n",
    "          'trade-volume',\n",
    "          'tx-trade-ratio',\n",
    "          'cost-per-transaction',\n",
    "          'hash-rate',\n",
    "          'difficulty',\n",
    "          'miners-revenue',\n",
    "          #'avg-confirmation-time',\n",
    "          'bitcoin-days-destroyed',\n",
    "          'avg-block-size'\n",
    "         ]\n",
    "\n",
    "frames = []   # contains everything as dataframes from charts\n",
    "features = [] # contains everything as dataframes from charts except the market-price, values are standardized\n",
    "\n",
    "dateparse = lambda x: pd.datetime.strptime(x, '%d/%m/%Y %H:%M:%S')\n",
    "\n",
    "data = pd.read_csv(url % charts[0], parse_dates=[0], date_parser = dateparse)\n",
    "data.columns = ['date', charts[0]]\n",
    "    \n",
    "df = pd.DataFrame(data)\n",
    "df['date'] = df['date'].apply(lambda x: x.date())\n",
    "df = df.drop_duplicates(['date']).set_index('date').reindex(pd.date_range(start = '1/4/2012', end = '2/28/2016'))\n",
    "frames.append(df)\n",
    "\n",
    "for chart in charts[1:]:\n",
    "    print(chart)\n",
    "    data = pd.read_csv(url % chart, parse_dates=[0], date_parser = dateparse)\n",
    "    data.columns = ['date', chart]\n",
    "    \n",
    "    df = pd.DataFrame(data)\n",
    "    df['date'] = df['date'].apply(lambda x: x.date())\n",
    "    df = df.drop_duplicates(['date']).set_index('date').reindex(pd.date_range(start = '1/4/2012', end = '2/29/2016'))\n",
    "    frames.append(df)\n",
    "    \n",
    "    data_np = df.as_matrix()\n",
    "    scaler = preproc.StandardScaler().fit(data_np)\n",
    "    data_np_standard = scaler.transform(data_np)\n",
    "    \n",
    "    df_standard = pd.DataFrame(data=data_np_standard, index=df.index, columns=df.columns)\n",
    "    features.append(df_standard)\n",
    "    \n",
    "#btc_dataset = pd.DataFrame(data=features)\n",
    "#btc_dataset = btc_dataset.set_index('market-price')"
   ]
  },
  {
   "cell_type": "markdown",
   "metadata": {},
   "source": [
    "# Setup the genetic algorithm and initialize the population"
   ]
  },
  {
   "cell_type": "code",
   "execution_count": null,
   "metadata": {
    "collapsed": false
   },
   "outputs": [],
   "source": [
    "def filterFeatures (mask):\n",
    "    return list (map (lambda t: t[1], filter (lambda t: t[0], zip(mask, features))))\n",
    "\n",
    "def fitnessFun (indiv):\n",
    "    filteredFeatures = filterFeatures(indiv)\n",
    "    size = len(filteredFeatures)\n",
    "    features = pd.concat(filteredFeatures, axis = 1)\n",
    "    btc_features = pd.DataFrame(features.values).as_matrix()\n",
    "    btc_target = pd.DataFrame(frames[0]).as_matrix().flatten()\n",
    "    \n",
    "    # 70% of the data will be used for training,\n",
    "    # 30% will be used for testing.\n",
    "    # Later on a 60:20:20 split will be used\n",
    "    # for training, validation and testing respectively. \n",
    "\n",
    "    btc_X_train = btc_features[:int(0.7*len(btc_features))]\n",
    "    btc_X_test = btc_features[int(0.7*len(btc_features)):]\n",
    "\n",
    "    btc_y_train = btc_target[:int(0.7*len(btc_target))]\n",
    "    btc_y_test = btc_target[int(0.7*len(btc_target)):]\n",
    "\n",
    "    # Create the learner\n",
    "\n",
    "    regr = linear_model.LinearRegression()\n",
    "\n",
    "    # Train the learner on the training data\n",
    "    # and evaluate the performance by the test data\n",
    "\n",
    "    regr.fit(btc_X_train, btc_y_train)\n",
    "    print ('Variance score: %.2f, %d' % (regr.score(btc_X_test, btc_y_test), size))\n",
    "    \n",
    "    return regr.score(btc_X_test, btc_y_test), size\n",
    "\n",
    "creator.create(\"FitnessMulti\", base.Fitness, weights=(1.0,-1.0))\n",
    "creator.create(\"Individual\", list, fitness=creator.FitnessMulti) "
   ]
  },
  {
   "cell_type": "markdown",
   "metadata": {},
   "source": [
    "# Linear Regression with R<sup>2</sup> statistic as fitness function for GA gaussian process bayesian regression"
   ]
  },
  {
   "cell_type": "code",
   "execution_count": null,
   "metadata": {
    "collapsed": false,
    "scrolled": true
   },
   "outputs": [],
   "source": [
    "# Concatenate the features in order to group them by date\n",
    "\n",
    "toolb = base.Toolbox()\n",
    "toolb.register('bit', random.randint, 0, 1)\n",
    "toolb.register('individual', tools.initRepeat, creator.Individual, toolb.bit, n = len(features))\n",
    "toolb.register('population', tools.initRepeat, list, toolb.individual, n = 22)\n",
    "toolb.register('evaluate', fitnessFun)\n",
    "toolb.register('mate', tools.cxUniform, indpb = 0.1)\n",
    "toolb.register('mutate', tools.mutFlipBit, indpb = 0.05)\n",
    "toolb.register('select', tools.selNSGA2)\n",
    "\n",
    "population = toolb.population()\n",
    "fits = map (toolb.evaluate, population)\n",
    "for fit, ind in zip(fits, population):\n",
    "    ind.fitness.values = fit\n",
    "\n",
    "for gen in range(50):\n",
    "    offspring = algorithms.varOr(population, toolb, lambda_ = 22, cxpb = 0.5, mutpb = 0.1)\n",
    "    fits = map (toolb.evaluate, offspring)\n",
    "    for fit, ind in zip(fits, offspring):\n",
    "        ind.fitness.values = fit\n",
    "    population = toolb.select(offspring + population, k = 22)\n",
    "    \n",
    "print(population)\n",
    "\n"
   ]
  },
  {
   "cell_type": "markdown",
   "metadata": {},
   "source": [
    "# Visualizing the actual and predicted prices "
   ]
  },
  {
   "cell_type": "code",
   "execution_count": null,
   "metadata": {
    "collapsed": false,
    "scrolled": false
   },
   "outputs": [],
   "source": [
    "for f in frames:\n",
    "    f.plot()\n",
    "    \n",
    "\n",
    "features.plot(figsize = (25,25))\n"
   ]
  },
  {
   "cell_type": "code",
   "execution_count": null,
   "metadata": {
    "collapsed": false
   },
   "outputs": [],
   "source": [
    "plt.figure(figsize = (10,10))\n",
    "plt.plot(features.index[int(0.7*len(btc_target)):], btc_y_test, label = 'Actual Prices')\n",
    "plt.plot(features.index[int(0.7*len(btc_target)):], regr.predict(btc_X_test), label = 'Predicted Prices')\n",
    "plt.legend(loc = 'best')"
   ]
  },
  {
   "cell_type": "markdown",
   "metadata": {},
   "source": [
    "# Price values"
   ]
  },
  {
   "cell_type": "code",
   "execution_count": null,
   "metadata": {
    "collapsed": false,
    "scrolled": false
   },
   "outputs": [],
   "source": [
    "compare_df = pd.DataFrame(data = list(zip(btc_y_test, regr.predict(btc_X_test))), \n",
    "                          index = features.index[int(0.7*len(btc_target)):], \n",
    "                          columns = ['actual', 'predicted'])\n",
    "compare_df"
   ]
  },
  {
   "cell_type": "code",
   "execution_count": null,
   "metadata": {
    "collapsed": true
   },
   "outputs": [],
   "source": []
  }
 ],
 "metadata": {
  "kernelspec": {
   "display_name": "Python 3",
   "language": "python",
   "name": "python3"
  },
  "language_info": {
   "codemirror_mode": {
    "name": "ipython",
    "version": 3
   },
   "file_extension": ".py",
   "mimetype": "text/x-python",
   "name": "python",
   "nbconvert_exporter": "python",
   "pygments_lexer": "ipython3",
   "version": "3.5.1"
  }
 },
 "nbformat": 4,
 "nbformat_minor": 0
}
