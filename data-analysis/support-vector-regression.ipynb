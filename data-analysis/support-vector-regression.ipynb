{
 "cells": [
  {
   "cell_type": "markdown",
   "metadata": {},
   "source": [
    "# References\n",
    "\n",
    "* http://leon.bottou.org/publications/pdf/compstat-2010.pdf\n",
    "* http://research.microsoft.com/pubs/192769/tricks-2012.pdf\n",
    "* http://ieeexplore.ieee.org/stamp/stamp.jsp?tp=&arnumber=1257413&tag=1\n",
    "* http://www.sciencedirect.com/science/article/pii/S0305048301000263"
   ]
  },
  {
   "cell_type": "code",
   "execution_count": 61,
   "metadata": {
    "collapsed": false
   },
   "outputs": [
    {
     "name": "stdout",
     "output_type": "stream",
     "text": [
      "The autoreload extension is already loaded. To reload it, use:\n",
      "  %reload_ext autoreload\n",
      "The version_information extension is already loaded. To reload it, use:\n",
      "  %reload_ext version_information\n"
     ]
    },
    {
     "data": {
      "application/json": {
       "Software versions": [
        {
         "module": "Python",
         "version": "3.5.1 64bit [GCC 4.4.7 20120313 (Red Hat 4.4.7-1)]"
        },
        {
         "module": "IPython",
         "version": "4.1.2"
        },
        {
         "module": "OS",
         "version": "Linux 3.13.0 86 generic x86_64 with debian jessie sid"
        },
        {
         "module": "deap",
         "version": "1.0"
        },
        {
         "module": "matplotlib",
         "version": "1.5.1"
        },
        {
         "module": "numpy",
         "version": "1.10.4"
        },
        {
         "module": "pandas",
         "version": "0.18.0"
        },
        {
         "module": "pymc3",
         "version": "3.0"
        },
        {
         "module": "seaborn",
         "version": "0.7.0"
        },
        {
         "module": "sklearn",
         "version": "0.17.1"
        },
        {
         "module": "theano",
         "version": "0.9.0dev1.dev-5e50147375ad507990655cc1a3e990aa4c190549"
        }
       ]
      },
      "text/html": [
       "<table><tr><th>Software</th><th>Version</th></tr><tr><td>Python</td><td>3.5.1 64bit [GCC 4.4.7 20120313 (Red Hat 4.4.7-1)]</td></tr><tr><td>IPython</td><td>4.1.2</td></tr><tr><td>OS</td><td>Linux 3.13.0 86 generic x86_64 with debian jessie sid</td></tr><tr><td>deap</td><td>1.0</td></tr><tr><td>matplotlib</td><td>1.5.1</td></tr><tr><td>numpy</td><td>1.10.4</td></tr><tr><td>pandas</td><td>0.18.0</td></tr><tr><td>pymc3</td><td>3.0</td></tr><tr><td>seaborn</td><td>0.7.0</td></tr><tr><td>sklearn</td><td>0.17.1</td></tr><tr><td>theano</td><td>0.9.0dev1.dev-5e50147375ad507990655cc1a3e990aa4c190549</td></tr><tr><td colspan='2'>Sat May 21 03:02:44 2016 BST</td></tr></table>"
      ],
      "text/latex": [
       "\\begin{tabular}{|l|l|}\\hline\n",
       "{\\bf Software} & {\\bf Version} \\\\ \\hline\\hline\n",
       "Python & 3.5.1 64bit [GCC 4.4.7 20120313 (Red Hat 4.4.7-1)] \\\\ \\hline\n",
       "IPython & 4.1.2 \\\\ \\hline\n",
       "OS & Linux 3.13.0 86 generic x86\\_64 with debian jessie sid \\\\ \\hline\n",
       "deap & 1.0 \\\\ \\hline\n",
       "matplotlib & 1.5.1 \\\\ \\hline\n",
       "numpy & 1.10.4 \\\\ \\hline\n",
       "pandas & 0.18.0 \\\\ \\hline\n",
       "pymc3 & 3.0 \\\\ \\hline\n",
       "seaborn & 0.7.0 \\\\ \\hline\n",
       "sklearn & 0.17.1 \\\\ \\hline\n",
       "theano & 0.9.0dev1.dev-5e50147375ad507990655cc1a3e990aa4c190549 \\\\ \\hline\n",
       "\\hline \\multicolumn{2}{|l|}{Sat May 21 03:02:44 2016 BST} \\\\ \\hline\n",
       "\\end{tabular}\n"
      ],
      "text/plain": [
       "Software versions\n",
       "Python 3.5.1 64bit [GCC 4.4.7 20120313 (Red Hat 4.4.7-1)]\n",
       "IPython 4.1.2\n",
       "OS Linux 3.13.0 86 generic x86_64 with debian jessie sid\n",
       "deap 1.0\n",
       "matplotlib 1.5.1\n",
       "numpy 1.10.4\n",
       "pandas 0.18.0\n",
       "pymc3 3.0\n",
       "seaborn 0.7.0\n",
       "sklearn 0.17.1\n",
       "theano 0.9.0dev1.dev-5e50147375ad507990655cc1a3e990aa4c190549\n",
       "Sat May 21 03:02:44 2016 BST"
      ]
     },
     "execution_count": 61,
     "metadata": {},
     "output_type": "execute_result"
    }
   ],
   "source": [
    "%matplotlib inline\n",
    "\n",
    "%load_ext autoreload\n",
    "%autoreload 2\n",
    "\n",
    "%load_ext version_information\n",
    "%version_information deap, matplotlib, numpy, pandas, pymc3, seaborn, sklearn, theano"
   ]
  },
  {
   "cell_type": "code",
   "execution_count": 62,
   "metadata": {
    "collapsed": false
   },
   "outputs": [],
   "source": [
    "from nsga2 import *\n",
    "from IPython.display import display\n",
    "from ipywidgets import widgets\n",
    "import matplotlib.pyplot as plt\n",
    "import numpy as np\n",
    "import pandas as pd\n",
    "import pymc3 as pm\n",
    "import random\n",
    "import seaborn as sns\n",
    "from sklearn import linear_model\n",
    "from sklearn import preprocessing as preproc\n",
    "from sklearn import svm\n",
    "from sklearn.dummy import DummyRegressor\n",
    "from sklearn.metrics import mean_squared_error as mse, accuracy_score as acc_scr, mean_absolute_error as mae\n",
    "\n",
    "np.set_printoptions(threshold=np.nan)\n",
    "sns.set()"
   ]
  },
  {
   "cell_type": "code",
   "execution_count": 99,
   "metadata": {
    "collapsed": true
   },
   "outputs": [],
   "source": [
    "path = '../btc-data/BTC_LOB_techind_10s.csv'\n",
    "data10s = pd.read_csv(path, index_col = 0, parse_dates = True)\n",
    "\n",
    "path = '../btc-data/BTC_LOB_techind_30s.csv'\n",
    "data30s = pd.read_csv(path, index_col = 0, parse_dates = True)\n",
    "\n",
    "path = '../btc-data/BTC_LOB_techind_60s.csv'\n",
    "data1m = pd.read_csv(path, index_col = 0, parse_dates = True)\n",
    "\n",
    "path = '../btc-data/BTC_LOB_techind_300s.csv'\n",
    "data5m = pd.read_csv(path, index_col = 0, parse_dates = True)\n",
    "\n",
    "path = '../btc-data/BTC_LOB_techind_600s.csv'\n",
    "data10m = pd.read_csv(path, index_col = 0, parse_dates = True)\n",
    "\n",
    "datas = [data10s, data30s, data1m, data5m, data10m]"
   ]
  },
  {
   "cell_type": "code",
   "execution_count": 74,
   "metadata": {
    "collapsed": true
   },
   "outputs": [],
   "source": [
    "def directional_symmetry(act, pred):\n",
    "    act_ticks = list(map(lambda t: 1 if t[1] - t[0] >= 0 else 0, zip(act.values, act.values[1:])))\n",
    "    pred_ticks = list(map(lambda t: 1 if t[1] - t[0] >= 0 else 0, zip(pred, pred[1:])))\n",
    "    d = list(map(lambda t: t[0] == t[1], zip(act_ticks, pred_ticks)))\n",
    "    \n",
    "    return np.sum(d) / len(act_ticks)"
   ]
  },
  {
   "cell_type": "code",
   "execution_count": 91,
   "metadata": {
    "collapsed": true
   },
   "outputs": [],
   "source": [
    "#def filter_features(mask):\n",
    "#    return list(map(lambda t: t[1], filter(lambda t: t[0], zip(mask, FEATURES))))\n",
    "\n",
    "def fitness_fun(model):\n",
    "    method, indiv, dataset = model\n",
    "    loss = ['epsilon_insensitive', 'squared_epsilon_insensitive']\n",
    "    penalty = ['none', 'l2', 'l1', 'elasticnet']\n",
    "    learning_rate = ['constant', 'optimal', 'invscaling']\n",
    "    \n",
    "    X_train, X_valid, y_train, y_valid = dataset\n",
    "    \n",
    "    #print(X_train.columns)\n",
    "    \n",
    "    # Train the learner on the training data\n",
    "    # and evaluate the performance by the test data\n",
    "    \n",
    "    if indiv[1] <= 0:\n",
    "        indiv[1] = 0.002\n",
    "    \n",
    "    if indiv[0] <= 0:\n",
    "        indiv[0] = 0.002\n",
    "        \n",
    "    method.loss = loss[int(indiv[3])]\n",
    "    method.penalty = penalty[int(indiv[4])]\n",
    "    method.learning_rate = learning_rate[int(indiv[6])]\n",
    "    \n",
    "    if method.learning_rate in ['constant', 'invscaling']:\n",
    "        method.eta0 = indiv[1]\n",
    "        \n",
    "        if method.learning_rate == 'invscaling':\n",
    "            method.power_t = indiv[2]\n",
    "    else:\n",
    "        method.alpha = indiv[0]\n",
    "        \n",
    "    if method.penalty == 'elasticnet':\n",
    "        method.l1_ratio = indiv[5]\n",
    "    \n",
    "    method.fit(X_train, y_train)\n",
    "    \n",
    "    X_valid25 = X_valid[:int(0.2*len(X_valid))]\n",
    "    y_valid25 = y_valid[:int(0.2*len(y_valid))]\n",
    "    \n",
    "    pred = method.predict(X_valid)\n",
    "    rmse = np.sqrt(mse(y_valid, pred))\n",
    "    dir_sym = directional_symmetry(y_valid, pred)\n",
    "    \n",
    "    return dir_sym, rmse\n",
    "\n",
    "def nsga2_feat_sel(method, gen_num, indiv_num, dataset):\n",
    "    creator.create(\"FitnessMulti\", base.Fitness, weights = (1.0, -1.0))\n",
    "    creator.create(\"Individual\", list, fitness=creator.FitnessMulti)\n",
    "    toolb.register('alpha', random.uniform, 0.0001, 0.01)\n",
    "    toolb.register('eta0', random.uniform, 0.0001, 0.01)\n",
    "    toolb.register('power_t', random.uniform, 0.001, 0.5)\n",
    "    toolb.register('loss', random.randint, 0, 1)\n",
    "    toolb.register('penalty', random.randint, 0, 3)\n",
    "    toolb.register('l1_ratio', random.uniform, 0, 1)\n",
    "    toolb.register('learning_rate', random.randint, 0, 2)\n",
    "    toolb.register('individual', tools.initCycle, creator.Individual,\n",
    "                   (toolb.alpha, toolb.eta0, toolb.power_t, toolb.loss,\n",
    "                    toolb.penalty, toolb.l1_ratio, toolb.learning_rate), n = 1)\n",
    "    toolb.register('population', tools.initRepeat, list, toolb.individual, n = indiv_num)\n",
    "    toolb.register('evaluate', fitness_fun)\n",
    "    toolb.register('mate', tools.cxUniform, indpb = 0.1)\n",
    "    toolb.register('mutate', tools.mutGaussian, mu = 0.001, sigma = 0.01, indpb = 0.1)\n",
    "    toolb.register('select', tools.selNSGA2)\n",
    "\n",
    "    population = toolb.population()\n",
    "    fits = map (toolb.evaluate, map(lambda x: (method, x, dataset), population))\n",
    "\n",
    "    hof = tools.HallOfFame(1)\n",
    "\n",
    "    for fit, ind in zip(fits, population):\n",
    "        ind.fitness.values = fit\n",
    "\n",
    "    best = np.ndarray((gen_num, 2))\n",
    "    top_RMSE = []\n",
    "\n",
    "    for gen in range(gen_num):\n",
    "        offspring = algorithms.varOr(population, toolb, lambda_ = indiv_num, cxpb = 0.55, mutpb = 0.15)\n",
    "        hof.update(offspring)\n",
    "\n",
    "        fits = map (toolb.evaluate, map(lambda x: (method, x, dataset), offspring))\n",
    "\n",
    "        for fit, ind in zip(fits, offspring):\n",
    "            ind.fitness.values = fit\n",
    "\n",
    "        population = toolb.select(offspring + population, k = indiv_num)\n",
    "\n",
    "        best[gen] = (hof[0].fitness.values)\n",
    "        top_RMSE = hof[0]\n",
    "\n",
    "    chromosome = hof[0]\n",
    "    #selected_features = list(map(lambda t: t[1], filter(lambda t: t[0], zip(hof[0], CHARTS[1:]))))\n",
    "    \n",
    "    return best, chromosome"
   ]
  },
  {
   "cell_type": "code",
   "execution_count": 109,
   "metadata": {
    "collapsed": false
   },
   "outputs": [],
   "source": [
    "def feature_selection(gen_num, indiv_num, dataset):\n",
    "    \n",
    "    sgd = linear_model.SGDRegressor(epsilon = 0.0, shuffle = False)\n",
    "\n",
    "    results = nsga2_feat_sel(sgd, gen_num, indiv_num, dataset)\n",
    "\n",
    "    print ('Scores', results[0], '\\n')\n",
    "    print ('Chromosome: ', results[1], '\\n\\n')\n",
    "    \n",
    "    # Create dataframes from the metrics\n",
    "    results_df = pd.DataFrame(results[0], columns = ['DS', 'RMSE'])\n",
    "    results_df.insert(0, 'Generation', results_df.index)\n",
    "    \n",
    "    # Plot the best individuals of each generation based on the metrics\n",
    "    g = sns.PairGrid(results_df, y_vars=['DS', 'RMSE'], x_vars = 'Generation', size=7, aspect = 2.5)\n",
    "    g.map(plt.plot)"
   ]
  },
  {
   "cell_type": "code",
   "execution_count": 120,
   "metadata": {
    "collapsed": false
   },
   "outputs": [],
   "source": [
    "def evaluate(data, features):\n",
    "    X, y = data[features], data['DELTAP'].copy()\n",
    "\n",
    "    for df in X.columns.tolist():\n",
    "        X[df] = preproc.StandardScaler().fit(X[df].reshape(-1,1)).transform(X[df].reshape(-1,1))\n",
    "\n",
    "    train_dates = X.index[:int(0.7*len(X))]\n",
    "    valid_dates = X.index[int(0.7*len(X)):int(0.85*len(X))]\n",
    "    test_dates = X.index[int(0.85*len(X)):]\n",
    "\n",
    "    X_train = X[train_dates[0]:train_dates[-1]]\n",
    "    y_train = y[train_dates[0]:train_dates[-1]]\n",
    "\n",
    "    X_valid = X[valid_dates[0]:valid_dates[-1]]\n",
    "    y_valid = y[valid_dates[0]:valid_dates[-1]]\n",
    "    \n",
    "    dataset = X_train, X_valid, y_train, y_valid\n",
    "    \n",
    "    feature_selection(25, 12, dataset)\n",
    "\n",
    "    X_test = X[test_dates[0]:test_dates[-1]]\n",
    "    y_test = y[test_dates[0]:test_dates[-1]]"
   ]
  },
  {
   "cell_type": "code",
   "execution_count": 121,
   "metadata": {
    "collapsed": false
   },
   "outputs": [
    {
     "name": "stderr",
     "output_type": "stream",
     "text": [
      "/home/dl3913/anaconda3/lib/python3.5/site-packages/ipykernel/__main__.py:5: SettingWithCopyWarning: \n",
      "A value is trying to be set on a copy of a slice from a DataFrame.\n",
      "Try using .loc[row_indexer,col_indexer] = value instead\n",
      "\n",
      "See the caveats in the documentation: http://pandas.pydata.org/pandas-docs/stable/indexing.html#indexing-view-versus-copy\n"
     ]
    },
    {
     "name": "stdout",
     "output_type": "stream",
     "text": [
      "Scores [[ 0.59732494  0.08303244]\n",
      " [ 0.86035723  0.08008951]\n",
      " [ 0.86035723  0.08008951]\n",
      " [ 0.86750432  0.08226729]\n",
      " [ 0.86750432  0.08226729]\n",
      " [ 0.86750432  0.08226729]\n",
      " [ 0.86750432  0.08226729]\n",
      " [ 0.86750432  0.08226729]\n",
      " [ 0.86750432  0.08226729]\n",
      " [ 0.86750432  0.08226729]\n",
      " [ 0.86750432  0.08226729]\n",
      " [ 0.86750432  0.08226729]\n",
      " [ 0.86750432  0.08226729]\n",
      " [ 0.86750432  0.08226729]\n",
      " [ 0.86750432  0.08226729]\n",
      " [ 0.86750432  0.08226729]\n",
      " [ 0.86750432  0.08226729]\n",
      " [ 0.86750432  0.08226729]\n",
      " [ 0.86750432  0.08226729]\n",
      " [ 0.86750432  0.08226729]\n",
      " [ 0.86750432  0.08226729]\n",
      " [ 0.86750432  0.08226729]\n",
      " [ 0.86750432  0.08226729]\n",
      " [ 0.86750432  0.08226729]\n",
      " [ 0.86750432  0.08226729]] \n",
      "\n",
      "Chromosome:  [0.008019669427699848, 0.002990851700931255, 0.316095176145151, -0.002914406041944242, 2, 0.12999520558388655, 0] \n",
      "\n",
      "\n"
     ]
    },
    {
     "data": {
      "image/png": "[encoded data removed]",
      "text/plain": [
       "<matplotlib.figure.Figure at 0x7fadf8edea90>"
      ]
     },
     "metadata": {},
     "output_type": "display_data"
    }
   ],
   "source": [
    "features = ['B-ASPREAD', 'K360', 'K180',\n",
    "            'MOM60', 'ROC60', 'LWR360',\n",
    "            'LWR180', 'ADOSC360', 'ADOSC180',\n",
    "            'DISP360', 'DISP180', 'DISP60',\n",
    "            'OSCP60-180', 'RSI60']\n",
    "\n",
    "evaluate(datas[0].copy(), features)"
   ]
  },
  {
   "cell_type": "code",
   "execution_count": 131,
   "metadata": {
    "collapsed": false
   },
   "outputs": [
    {
     "name": "stdout",
     "output_type": "stream",
     "text": [
      "0.106500379971\n",
      "0.123099661097\n",
      "0.863370089593\n"
     ]
    },
    {
     "data": {
      "text/plain": [
       "<matplotlib.legend.Legend at 0x7fadf6d4e940>"
      ]
     },
     "execution_count": 131,
     "metadata": {},
     "output_type": "execute_result"
    },
    {
     "data": {
      "image/png": "[encoded data removed]",
      "text/plain": [
       "<matplotlib.figure.Figure at 0x7fadf6d9bc88>"
      ]
     },
     "metadata": {},
     "output_type": "display_data"
    }
   ],
   "source": [
    "X, y = data10s[features].copy(), data10s['DELTAP'].copy()\n",
    "\n",
    "for df in X.columns.tolist():\n",
    "    X[df] = preproc.StandardScaler().fit(X[df].reshape(-1,1)).transform(X[df].reshape(-1,1))\n",
    "\n",
    "train_dates = X.index[:int(0.7*len(X))]\n",
    "valid_dates = X.index[int(0.7*len(X)):int(0.85*len(X))]\n",
    "test_dates = X.index[int(0.85*len(X)):]\n",
    "\n",
    "X_train = X[train_dates[0]:valid_dates[-1]]\n",
    "y_train = y[train_dates[0]:valid_dates[-1]]\n",
    "\n",
    "sgd = linear_model.SGDRegressor(epsilon = 0.0, shuffle = False, loss='epsilon_insensitive',\n",
    "                                penalty = 'l1', learning_rate = 'constant',\n",
    "                                alpha = 0.008019669427699848, eta0 = 0.002990851700931255,\n",
    "                                power_t = 0.316095176145151, l1_ratio = 0.12999520558388655)\n",
    "\n",
    "sgd.fit(X_train, y_train)\n",
    "\n",
    "X_valid = X[valid_dates[0]:valid_dates[-1]]\n",
    "y_valid = y[valid_dates[0]:valid_dates[-1]]\n",
    "\n",
    "X_test = X[test_dates[0]:test_dates[-1]]\n",
    "y_test = y[test_dates[0]:test_dates[-1]]\n",
    "\n",
    "pred = sgd.predict(X_test)\n",
    "\n",
    "rmse_test = np.sqrt(mse(y_test, pred))\n",
    "rmse_train = np.sqrt(mse(y_train, sgd.predict(X_train)))\n",
    "\n",
    "print(rmse_test)\n",
    "print(rmse_train)\n",
    "\n",
    "print(directional_symmetry(y_test, pred))\n",
    "\n",
    "plt.figure(figsize = (20,10))\n",
    "plt.plot(y_test.index, y_test, label = 'Actual Prices')\n",
    "plt.plot(y_test.index, pred, label = 'Predicted Prices')\n",
    "plt.xlim('2016-04-24 17', '2016-04-24 20')\n",
    "plt.ylim(-1,1)\n",
    "plt.legend()"
   ]
  },
  {
   "cell_type": "code",
   "execution_count": null,
   "metadata": {
    "collapsed": false
   },
   "outputs": [],
   "source": [
    "clf = svm.LinearSVR(C = 5000, loss='epsilon_insensitive', max_iter = 100)\n",
    "clf.fit(X_train, y_train)"
   ]
  },
  {
   "cell_type": "code",
   "execution_count": null,
   "metadata": {
    "collapsed": false
   },
   "outputs": [],
   "source": [
    "clf = svm.SVR(C = 50, kernel = 'rbf', max_iter = 10, cache_size = 10000)\n",
    "clf.fit(X_train, y_train)"
   ]
  },
  {
   "cell_type": "code",
   "execution_count": null,
   "metadata": {
    "collapsed": false
   },
   "outputs": [],
   "source": [
    "pred = clf.predict(X_test)\n",
    "di"
   ]
  },
  {
   "cell_type": "code",
   "execution_count": null,
   "metadata": {
    "collapsed": false
   },
   "outputs": [],
   "source": [
    "R2 = clf.score(X_test, y_test)\n",
    "R2\n",
    "rmse_test = np.sqrt(mse(y_test, pred))\n",
    "rmse_train = np.sqrt(mse(y_train, clf.predict(X_train)))\n",
    "\n",
    "print(rmse_test)\n",
    "print(rmse_train)"
   ]
  },
  {
   "cell_type": "code",
   "execution_count": null,
   "metadata": {
    "collapsed": false
   },
   "outputs": [],
   "source": [
    "clf = linear_model.SGDRegressor(loss='epsilon_insensitive', penalty='l2',\n",
    "                                epsilon=0, shuffle = True,\n",
    "                                eta0=0.002, power_t = 0.0759965388605597)\n",
    "clf.fit(X_train, y_train)"
   ]
  },
  {
   "cell_type": "code",
   "execution_count": 55,
   "metadata": {
    "collapsed": false
   },
   "outputs": [
    {
     "data": {
      "text/plain": [
       "0.62537053682418864"
      ]
     },
     "execution_count": 55,
     "metadata": {},
     "output_type": "execute_result"
    }
   ],
   "source": [
    "pred = clf.predict(X_test)\n",
    "directional_symmetry(y_test, pred)"
   ]
  },
  {
   "cell_type": "code",
   "execution_count": 56,
   "metadata": {
    "collapsed": false
   },
   "outputs": [
    {
     "name": "stdout",
     "output_type": "stream",
     "text": [
      "0.107104633804\n",
      "0.130407170283\n"
     ]
    }
   ],
   "source": [
    "R2 = clf.score(X_test, y_test)\n",
    "R2\n",
    "rmse_test = np.sqrt(mse(y_test, pred))\n",
    "rmse_train = np.sqrt(mse(y_train, clf.predict(X_train)))\n",
    "\n",
    "print(rmse_test)\n",
    "print(rmse_train)"
   ]
  },
  {
   "cell_type": "code",
   "execution_count": null,
   "metadata": {
    "collapsed": false
   },
   "outputs": [],
   "source": [
    "plt.figure(figsize = (20,10))\n",
    "plt.plot(y_test.index, y_test, label = 'Actual Prices')\n",
    "plt.plot(y_test.index, pred, label = 'Predicted Prices')\n",
    "#plt.xlim('2016-04-24 19', '2016-04-24 21')\n",
    "#plt.ylim(445, 480)\n",
    "plt.legend()"
   ]
  },
  {
   "cell_type": "code",
   "execution_count": 57,
   "metadata": {
    "collapsed": false
   },
   "outputs": [
    {
     "name": "stdout",
     "output_type": "stream",
     "text": [
      "0.854201329789\n",
      "35.7886766934\n",
      "0.130407170283\n"
     ]
    }
   ],
   "source": [
    "dr = DummyRegressor(strategy='mean')\n",
    "dr.fit(X_train, y_train)\n",
    "\n",
    "pred = dr.predict(X_test)\n",
    "print(directional_symmetry(y_test, pred))\n",
    "\n",
    "rmse_test = np.sqrt(mse(y_test, pred))\n",
    "rmse_train = np.sqrt(mse(y_train, clf.predict(X_train)))\n",
    "\n",
    "print(rmse_test)\n",
    "print(rmse_train)"
   ]
  },
  {
   "cell_type": "code",
   "execution_count": null,
   "metadata": {
    "collapsed": false
   },
   "outputs": [],
   "source": [
    "plt.figure(figsize = (20,10))\n",
    "plt.plot(y_test.index, y_test, label = 'Actual Prices')\n",
    "plt.plot(y_test.index, pred, label = 'Predicted Prices')\n",
    "#plt.xlim('2016-04-24 19', '2016-04-24 21')\n",
    "#plt.ylim(445, 480)\n",
    "plt.legend()"
   ]
  },
  {
   "cell_type": "code",
   "execution_count": 59,
   "metadata": {
    "collapsed": false
   },
   "outputs": [
    {
     "data": {
      "text/plain": [
       "0.022259525585368579"
      ]
     },
     "execution_count": 59,
     "metadata": {},
     "output_type": "execute_result"
    }
   ],
   "source": [
    "np.mean(list(map(lambda t: np.abs(t[1] - t[0]), zip(y_test.values, y_test.values[1:]))))"
   ]
  },
  {
   "cell_type": "code",
   "execution_count": null,
   "metadata": {
    "collapsed": true
   },
   "outputs": [],
   "source": []
  }
 ],
 "metadata": {
  "kernelspec": {
   "display_name": "Python 3",
   "language": "python",
   "name": "python3"
  },
  "language_info": {
   "codemirror_mode": {
    "name": "ipython",
    "version": 3
   },
   "file_extension": ".py",
   "mimetype": "text/x-python",
   "name": "python",
   "nbconvert_exporter": "python",
   "pygments_lexer": "ipython3",
   "version": "3.5.1"
  }
 },
 "nbformat": 4,
 "nbformat_minor": 0
}
