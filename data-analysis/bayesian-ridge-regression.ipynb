{
 "cells": [
  {
   "cell_type": "markdown",
   "metadata": {},
   "source": [
    "# Bayesian Ridge Regression"
   ]
  },
  {
   "cell_type": "markdown",
   "metadata": {},
   "source": [
    "# References \n",
    "\n",
    "* http://www.machinelearning.org/proceedings/icml2004/papers/354.pdf\n",
    "* http://blog.applied.ai/bayesian-inference-with-pymc3-part-2/"
   ]
  },
  {
   "cell_type": "code",
   "execution_count": null,
   "metadata": {
    "collapsed": false
   },
   "outputs": [],
   "source": [
    "%matplotlib inline\n",
    "\n",
    "%load_ext autoreload\n",
    "%autoreload 2\n",
    "\n",
    "%load_ext version_information\n",
    "%version_information matplotlib, numpy, pandas, pymc3, seaborn, sklearn, theano"
   ]
  },
  {
   "cell_type": "code",
   "execution_count": null,
   "metadata": {
    "collapsed": false
   },
   "outputs": [],
   "source": [
    "import matplotlib.pyplot as plt\n",
    "import numpy as np\n",
    "import pandas as pd\n",
    "import pymc3 as pm\n",
    "import random\n",
    "import seaborn as sns\n",
    "from sklearn import preprocessing as preproc\n",
    "from sklearn.linear_model import BayesianRidge\n",
    "from sklearn.metrics import mean_squared_error as mse, accuracy_score as acc_scr, mean_absolute_error as mae\n",
    "import theano\n",
    "from theano import tensor as T\n",
    "\n",
    "#pd.set_option('html', False)\n",
    "np.set_printoptions(threshold=np.nan)\n",
    "sns.set()"
   ]
  },
  {
   "cell_type": "code",
   "execution_count": null,
   "metadata": {
    "collapsed": false
   },
   "outputs": [],
   "source": [
    "path = '../btc-data/BTC_LOB_features_10s.csv'\n",
    "data10s = pd.read_csv(path, index_col = 0, parse_dates = True)"
   ]
  },
  {
   "cell_type": "code",
   "execution_count": null,
   "metadata": {
    "collapsed": false
   },
   "outputs": [],
   "source": [
    "data30s = data10s.reindex(pd.date_range(start = data10s.index[0], end = data10s.index[-1], freq='30s'))\n",
    "data1m = data10s.reindex(pd.date_range(start = data10s.index[0], end = data10s.index[-1], freq='60s'))\n",
    "data5m = data10s.reindex(pd.date_range(start = data10s.index[0], end = data10s.index[-1], freq='300s'))\n",
    "data10m = data10s.reindex(pd.date_range(start = data10s.index[0], end = data10s.index[-1], freq='600s'))\n",
    "\n",
    "datas = [data10s, data30s, data1m, data5m, data10m]"
   ]
  },
  {
   "cell_type": "markdown",
   "metadata": {},
   "source": [
    "# Data Preprocessing"
   ]
  },
  {
   "cell_type": "code",
   "execution_count": null,
   "metadata": {
    "collapsed": false
   },
   "outputs": [],
   "source": [
    "def evaluate(data):\n",
    "    \n",
    "    X, y = data, data['mid price'].copy()\n",
    "\n",
    "    for df in X.columns.tolist():\n",
    "        X[df] = preproc.StandardScaler().fit(X[df].reshape(-1,1)).transform(X[df].reshape(-1,1))\n",
    "\n",
    "    train_dates = X.index[:int(0.7*len(X))]\n",
    "    test_dates = X.index[int(0.7*len(X)):]\n",
    "\n",
    "    #X_train[train_dates[0] : train_dates[-361]] = [X[i : i + 360] for i in range(len(X[:-360]))]\n",
    "    #X_test = X[test_dates[0] : test_dates[-361]]\n",
    "    #y_train = y[train_dates[360] : train_dates[-1]]\n",
    "    #y_test = y[test_dates[360] : test_dates[-361]]\n",
    "\n",
    "    print('First training date: ', train_dates[0])\n",
    "    print('Last training date: ', train_dates[-1])\n",
    "    print('First testing date: ', test_dates[0])\n",
    "    print('Last testing date: ', test_dates[-1])\n",
    "\n",
    "    # Create DataFrames for the training set. Input: mid prices from the previous hour, output: mid price change in the next 10 seconds.\n",
    "\n",
    "    X_train = pd.DataFrame()\n",
    "    y_train = y[train_dates[360] : train_dates[-1]]\n",
    "\n",
    "    for i in range(360):\n",
    "        colname = 'mid price ' + str(i + 1)\n",
    "        X_train[colname] = X['mid price'].ix[i : (len(train_dates) + i - 360)].values\n",
    "\n",
    "    X_train.set_index(train_dates[360:], inplace = True)\n",
    "\n",
    "    clf = BayesianRidge(compute_score=True)\n",
    "    clf.fit(X_train, y_train)\n",
    "\n",
    "    plt.figure(figsize=(20, 10))\n",
    "    plt.title(\"Weights of the previous prices\")\n",
    "    plt.plot(clf.coef_)\n",
    "    plt.xlabel(\"Prices\")\n",
    "    plt.ylabel(\"Weights\")\n",
    "\n",
    "    X_test = pd.DataFrame()\n",
    "    y_test = y[test_dates[360] : test_dates[-1]]\n",
    "\n",
    "    for i in range(360):\n",
    "        colname = 'mid price ' + str(i + 1)\n",
    "        X_test[colname] = X['mid price'].ix[(i + len(train_dates)) : (len(train_dates) + len(test_dates) + i - 360)].values\n",
    "\n",
    "    X_test.set_index(test_dates[360:], inplace = True)\n",
    "\n",
    "    pred = clf.predict(X_test)\n",
    "    pd.DataFrame(pred, index = test_dates[360:])\n",
    "\n",
    "    plt.figure(figsize = (20,10))\n",
    "    plt.title('Prediction with previous 360 prices')\n",
    "    plt.plot(y_test.index, y_test, label = 'Actual Prices')\n",
    "    plt.plot(y_test.index, pred, label = 'Predicted Prices')\n",
    "    plt.legend()\n",
    "\n",
    "    plt.figure(figsize = (20,10))\n",
    "    plt.title('Zoom in')\n",
    "    plt.plot(y_test.index, y_test, label = 'Actual Prices')\n",
    "    plt.plot(y_test.index, pred, label = 'Predicted Prices')\n",
    "    plt.xlim('2016-04-08 19', '2016-04-08 20:30')\n",
    "    plt.ylim(416.3, 424.1)\n",
    "    plt.legend()\n",
    "    \n",
    "    print('\\n\\nResults of prediction with previous 360 prices')\n",
    "    print('==============================================\\n')\n",
    "    R2_test = clf.score(X_test, y_test)\n",
    "    R2_train = clf.score(X_train, y_train)\n",
    "    print('Training set R2: ', R2_train, ', Test set R2: ', R2_test)\n",
    "    rmse_test = np.sqrt(mse(y_test, pred))\n",
    "    rmse_train = np.sqrt(mse(y_train, clf.predict(X_train)))\n",
    "    print('Training set RMSE: ', rmse_train, ', Test set RMSE: ', rmse_test)\n",
    "    mae_test = mae(y_test, pred)\n",
    "    mae_train = mae(y_train, clf.predict(X_train))\n",
    "    print('Training set MAE: ', mae_train, ', Test set MAE: ', mae_test)\n",
    "    act_ticks = list(map(lambda t: 1 if t[1] - t[0] >= 0 else -1, zip(y_test.values, y_test.values[1:])))\n",
    "    pred_ticks = list(map(lambda t: 1 if t[1] - t[0] >= 0 else -1, zip(pred, pred[1:])))\n",
    "    act_pred_cmp = list(map(lambda t: t[0] == t[1], zip(act_ticks, pred_ticks)))\n",
    "    accuracy = np.sum(act_pred_cmp) / len(act_ticks)\n",
    "    print('Directional Symmetry: ', accuracy, '\\n')\n",
    "    print('==============================================\\n\\n')\n",
    "\n",
    "    for c in X.drop('mid price', axis = 1).columns.tolist():\n",
    "        for i in range(2):\n",
    "            colname = c + ' ' + str(i + 1)\n",
    "            X_train[colname] = X[c].ix[358 + i : len(train_dates) + i - 2].values\n",
    "\n",
    "    clf = BayesianRidge(compute_score=True)\n",
    "    clf.fit(X_train, y_train)\n",
    "\n",
    "    plt.figure(figsize=(20,10))\n",
    "    plt.title(\"Weights of the features and previous prices\")\n",
    "    plt.plot(clf.coef_)\n",
    "    plt.xlabel(\"Features\")\n",
    "    plt.xlim(350, 383)\n",
    "    plt.ylabel(\"Weights\")\n",
    "\n",
    "    for c in X.drop('mid price', axis = 1).columns.tolist():\n",
    "        for i in range(2):\n",
    "            colname = c + ' ' + str(i + 1)\n",
    "            X_test[colname] = X[c].ix[len(train_dates) + 358 + i : len(train_dates) + len(test_dates) + i - 2].values\n",
    "\n",
    "    pred = clf.predict(X_test)\n",
    "    pd.DataFrame(pred, index = test_dates[360:])\n",
    "\n",
    "    plt.figure(figsize = (20,10))\n",
    "    plt.title('Prediction with features and prices')\n",
    "    plt.plot(y_test.index, y_test, label = 'Actual Prices')\n",
    "    plt.plot(y_test.index, pred, label = 'Predicted Prices')\n",
    "    plt.xlim('2016-04-08 19', '2016-04-08 20')\n",
    "    plt.ylim(416.3, 424.1)\n",
    "    plt.legend()\n",
    "\n",
    "    print('Results of prediction with previous 360 prices and previous 2 features')\n",
    "    print('======================================================================\\n')\n",
    "    R2_test = clf.score(X_test, y_test)\n",
    "    R2_train = clf.score(X_train, y_train)\n",
    "    print('Training set R2: ', R2_train, ', Test set R2: ', R2_test)\n",
    "    rmse_test = np.sqrt(mse(y_test, pred))\n",
    "    rmse_train = np.sqrt(mse(y_train, clf.predict(X_train)))\n",
    "    print('Training set RMSE: ', rmse_train, ', Test set RMSE: ', rmse_test)\n",
    "    mae_test = mae(y_test, pred)\n",
    "    mae_train = mae(y_train, clf.predict(X_train))\n",
    "    print('Training set MAE: ', mae_train, ', Test set MAE: ', mae_test)\n",
    "    act_ticks = list(map(lambda t: 1 if t[1] - t[0] >= 0 else -1, zip(y_test.values, y_test.values[1:])))\n",
    "    pred_ticks = list(map(lambda t: 1 if t[1] - t[0] >= 0 else -1, zip(pred, pred[1:])))\n",
    "    act_pred_cmp = list(map(lambda t: t[0] == t[1], zip(act_ticks, pred_ticks)))\n",
    "    accuracy = np.sum(act_pred_cmp) / len(act_ticks)\n",
    "    print('Directional Symmetry: ', accuracy, '\\n')\n",
    "    print('======================================================================\\n\\n')\n",
    "\n",
    "    X_train = pd.DataFrame()\n",
    "    y_train = y[train_dates[2] : train_dates[-1]]\n",
    "    \n",
    "    for i in range(2):\n",
    "        colname = 'mid price ' + str(i + 1)\n",
    "        X_train[colname] = X['mid price'].ix[i : (len(train_dates) + i - 2)].values\n",
    "    \n",
    "    for c in ['ask price', 'bid price', 'mean ask price', 'mean bid price']:\n",
    "        X_train[c] = X[c].ix[1 : len(train_dates) - 1].values\n",
    "    \n",
    "    X_train.set_index(train_dates[2:], inplace = True)\n",
    "\n",
    "    X_test = pd.DataFrame()\n",
    "    y_test = y[test_dates[2] : test_dates[-1]]\n",
    "\n",
    "    for i in range(2):\n",
    "        colname = 'mid price ' + str(i + 1)\n",
    "        X_test[colname] = X['mid price'].ix[(i + len(train_dates)) : (len(train_dates) + len(test_dates) + i - 2)].values\n",
    "    \n",
    "    for c in ['ask price', 'bid price', 'mean ask price', 'mean bid price']:\n",
    "        X_test[c] = X[c].ix[len(train_dates) + 1 : len(train_dates) + len(test_dates) - 1].values\n",
    "            \n",
    "    X_test.set_index(test_dates[2:], inplace = True)\n",
    "\n",
    "    clf = BayesianRidge(compute_score=True)\n",
    "    clf.fit(X_train, y_train)\n",
    "\n",
    "    pred = clf.predict(X_test)\n",
    "    pd.DataFrame(pred, index = test_dates[2:])\n",
    "\n",
    "    print('Results of prediction with previous 2 prices and selected features')\n",
    "    print('=========================================================\\n')\n",
    "    R2_test = clf.score(X_test, y_test)\n",
    "    R2_train = clf.score(X_train, y_train)\n",
    "    print('Training set R2: ', R2_train, ', Test set R2: ', R2_test)\n",
    "    rmse_test = np.sqrt(mse(y_test, pred))\n",
    "    rmse_train = np.sqrt(mse(y_train, clf.predict(X_train)))\n",
    "    print('Training set RMSE: ', rmse_train, ', Test set RMSE: ', rmse_test)\n",
    "    mae_test = mae(y_test, pred)\n",
    "    mae_train = mae(y_train, clf.predict(X_train))\n",
    "    print('Training set MAE: ', mae_train, ', Test set MAE: ', mae_test)\n",
    "    act_ticks = list(map(lambda t: 1 if t[1] - t[0] >= 0 else -1, zip(y_test.values, y_test.values[1:])))\n",
    "    pred_ticks = list(map(lambda t: 1 if t[1] - t[0] >= 0 else -1, zip(pred, pred[1:])))\n",
    "    act_pred_cmp = list(map(lambda t: t[0] == t[1], zip(act_ticks, pred_ticks)))\n",
    "    accuracy = np.sum(act_pred_cmp) / len(act_ticks)\n",
    "    print('Directional Symmetry: ', accuracy, '\\n')\n",
    "    print('=========================================================\\n\\n')"
   ]
  },
  {
   "cell_type": "code",
   "execution_count": null,
   "metadata": {
    "collapsed": false,
    "scrolled": false
   },
   "outputs": [],
   "source": [
    "evaluate(datas[0].copy())"
   ]
  },
  {
   "cell_type": "code",
   "execution_count": null,
   "metadata": {
    "collapsed": false,
    "scrolled": false
   },
   "outputs": [],
   "source": [
    "evaluate(datas[1].copy())"
   ]
  },
  {
   "cell_type": "code",
   "execution_count": null,
   "metadata": {
    "collapsed": false
   },
   "outputs": [],
   "source": [
    "evaluate(datas[2].copy())"
   ]
  },
  {
   "cell_type": "code",
   "execution_count": null,
   "metadata": {
    "collapsed": false
   },
   "outputs": [],
   "source": [
    "evaluate(datas[3].copy())"
   ]
  },
  {
   "cell_type": "code",
   "execution_count": null,
   "metadata": {
    "collapsed": false
   },
   "outputs": [],
   "source": [
    "evaluate(datas[4].copy())"
   ]
  },
  {
   "cell_type": "code",
   "execution_count": null,
   "metadata": {
    "collapsed": true
   },
   "outputs": [],
   "source": []
  }
 ],
 "metadata": {
  "kernelspec": {
   "display_name": "Python 3",
   "language": "python",
   "name": "python3"
  },
  "language_info": {
   "codemirror_mode": {
    "name": "ipython",
    "version": 3
   },
   "file_extension": ".py",
   "mimetype": "text/x-python",
   "name": "python",
   "nbconvert_exporter": "python",
   "pygments_lexer": "ipython3",
   "version": "3.5.1"
  }
 },
 "nbformat": 4,
 "nbformat_minor": 0
}
